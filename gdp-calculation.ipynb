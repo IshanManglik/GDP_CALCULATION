1{
 "cells": [
  {
   "cell_type": "code",
   "execution_count": 1,
   "id": "cc62426e",
   "metadata": {
    "_cell_guid": "b1076dfc-b9ad-4769-8c92-a6c4dae69d19",
    "_uuid": "8f2839f25d086af736a60e9eeb907d3b93b6e0e5",
    "execution": {
     "iopub.execute_input": "2023-10-31T08:28:24.837925Z",
     "iopub.status.busy": "2023-10-31T08:28:24.837481Z",
     "iopub.status.idle": "2023-10-31T08:28:25.276771Z",
     "shell.execute_reply": "2023-10-31T08:28:25.275557Z"
    },
    "papermill": {
     "duration": 0.455083,
     "end_time": "2023-10-31T08:28:25.279393",
     "exception": false,
     "start_time": "2023-10-31T08:28:24.824310",
     "status": "completed"
    },
    "tags": []
   },
   "outputs": [
    {
     "name": "stdout",
     "output_type": "stream",
     "text": [
      "/kaggle/input/world-bank-data-of-indian-economy-since-1991/World_Bank_Data_India_Definitions.csv\n",
      "/kaggle/input/world-bank-data-of-indian-economy-since-1991/World_Bank_Data_India.csv\n"
     ]
    }
   ],
   "source": [
    "import numpy as np\n",
    "import pandas as pd \n",
    "import os\n",
    "for dirname, _, filenames in os.walk('/kaggle/input'):\n",
    "    for filename in filenames:\n",
    "        print(os.path.join(dirname, filename))"
   ]
  },
  {
   "cell_type": "code",
   "execution_count": 2,
   "id": "fd2c6f79",
   "metadata": {
    "execution": {
     "iopub.execute_input": "2023-10-31T08:28:25.304634Z",
     "iopub.status.busy": "2023-10-31T08:28:25.304094Z",
     "iopub.status.idle": "2023-10-31T08:28:25.324965Z",
     "shell.execute_reply": "2023-10-31T08:28:25.324011Z"
    },
    "papermill": {
     "duration": 0.036801,
     "end_time": "2023-10-31T08:28:25.327678",
     "exception": false,
     "start_time": "2023-10-31T08:28:25.290877",
     "status": "completed"
    },
    "tags": []
   },
   "outputs": [],
   "source": [
    "df = pd.read_csv(\"/kaggle/input/world-bank-data-of-indian-economy-since-1991/World_Bank_Data_India.csv\")"
   ]
  },
  {
   "cell_type": "markdown",
   "id": "1bf572fc",
   "metadata": {
    "papermill": {
     "duration": 0.010904,
     "end_time": "2023-10-31T08:28:25.350486",
     "exception": false,
     "start_time": "2023-10-31T08:28:25.339582",
     "status": "completed"
    },
    "tags": []
   },
   "source": [
    "**STATISTICAL ANALYSIS**"
   ]
  },
  {
   "cell_type": "code",
   "execution_count": 3,
   "id": "1aaeb749",
   "metadata": {
    "execution": {
     "iopub.execute_input": "2023-10-31T08:28:25.375288Z",
     "iopub.status.busy": "2023-10-31T08:28:25.374460Z",
     "iopub.status.idle": "2023-10-31T08:28:25.416883Z",
     "shell.execute_reply": "2023-10-31T08:28:25.415691Z"
    },
    "papermill": {
     "duration": 0.057748,
     "end_time": "2023-10-31T08:28:25.419462",
     "exception": false,
     "start_time": "2023-10-31T08:28:25.361714",
     "status": "completed"
    },
    "tags": []
   },
   "outputs": [
    {
     "data": {
      "text/html": [
       "<div>\n",
       "<style scoped>\n",
       "    .dataframe tbody tr th:only-of-type {\n",
       "        vertical-align: middle;\n",
       "    }\n",
       "\n",
       "    .dataframe tbody tr th {\n",
       "        vertical-align: top;\n",
       "    }\n",
       "\n",
       "    .dataframe thead th {\n",
       "        text-align: right;\n",
       "    }\n",
       "</style>\n",
       "<table border=\"1\" class=\"dataframe\">\n",
       "  <thead>\n",
       "    <tr style=\"text-align: right;\">\n",
       "      <th></th>\n",
       "      <th>Years</th>\n",
       "      <th>POP_TOTL</th>\n",
       "      <th>POP_014</th>\n",
       "      <th>POP_1564</th>\n",
       "      <th>POP_65</th>\n",
       "      <th>EMP_TOTL</th>\n",
       "      <th>LF_TOTL</th>\n",
       "      <th>LF_ADVN_EDU</th>\n",
       "      <th>LF_BASC_EDU</th>\n",
       "      <th>LF_INTM_EDU</th>\n",
       "      <th>...</th>\n",
       "      <th>GDP_AGR</th>\n",
       "      <th>GDP_PP_EMP</th>\n",
       "      <th>XPD_TOTL_EDU</th>\n",
       "      <th>INFL</th>\n",
       "      <th>FRTL</th>\n",
       "      <th>BR</th>\n",
       "      <th>DR</th>\n",
       "      <th>D_COM</th>\n",
       "      <th>D_INJ</th>\n",
       "      <th>D_NC</th>\n",
       "    </tr>\n",
       "  </thead>\n",
       "  <tbody>\n",
       "    <tr>\n",
       "      <th>0</th>\n",
       "      <td>1991</td>\n",
       "      <td>888054875</td>\n",
       "      <td>335068163</td>\n",
       "      <td>518486703</td>\n",
       "      <td>34500009</td>\n",
       "      <td>322457613</td>\n",
       "      <td>335309031</td>\n",
       "      <td>NaN</td>\n",
       "      <td>NaN</td>\n",
       "      <td>NaN</td>\n",
       "      <td>...</td>\n",
       "      <td>30.479612</td>\n",
       "      <td>4785.413086</td>\n",
       "      <td>NaN</td>\n",
       "      <td>13.870246</td>\n",
       "      <td>3.959</td>\n",
       "      <td>30.915</td>\n",
       "      <td>10.585</td>\n",
       "      <td>NaN</td>\n",
       "      <td>NaN</td>\n",
       "      <td>NaN</td>\n",
       "    </tr>\n",
       "    <tr>\n",
       "      <th>1</th>\n",
       "      <td>1992</td>\n",
       "      <td>906021106</td>\n",
       "      <td>339847574</td>\n",
       "      <td>530519741</td>\n",
       "      <td>35653791</td>\n",
       "      <td>330588722</td>\n",
       "      <td>343350282</td>\n",
       "      <td>NaN</td>\n",
       "      <td>NaN</td>\n",
       "      <td>NaN</td>\n",
       "      <td>...</td>\n",
       "      <td>29.801484</td>\n",
       "      <td>4923.649902</td>\n",
       "      <td>NaN</td>\n",
       "      <td>11.787819</td>\n",
       "      <td>3.877</td>\n",
       "      <td>30.346</td>\n",
       "      <td>10.311</td>\n",
       "      <td>NaN</td>\n",
       "      <td>NaN</td>\n",
       "      <td>NaN</td>\n",
       "    </tr>\n",
       "    <tr>\n",
       "      <th>2</th>\n",
       "      <td>1993</td>\n",
       "      <td>924057817</td>\n",
       "      <td>344302685</td>\n",
       "      <td>542975424</td>\n",
       "      <td>36779708</td>\n",
       "      <td>338675554</td>\n",
       "      <td>351841793</td>\n",
       "      <td>NaN</td>\n",
       "      <td>NaN</td>\n",
       "      <td>NaN</td>\n",
       "      <td>...</td>\n",
       "      <td>29.740630</td>\n",
       "      <td>5034.382812</td>\n",
       "      <td>NaN</td>\n",
       "      <td>6.362039</td>\n",
       "      <td>3.799</td>\n",
       "      <td>29.796</td>\n",
       "      <td>10.047</td>\n",
       "      <td>NaN</td>\n",
       "      <td>NaN</td>\n",
       "      <td>NaN</td>\n",
       "    </tr>\n",
       "    <tr>\n",
       "      <th>3</th>\n",
       "      <td>1994</td>\n",
       "      <td>942204249</td>\n",
       "      <td>348305135</td>\n",
       "      <td>556006717</td>\n",
       "      <td>37892397</td>\n",
       "      <td>347763564</td>\n",
       "      <td>360942196</td>\n",
       "      <td>37.07</td>\n",
       "      <td>18.34</td>\n",
       "      <td>18.35</td>\n",
       "      <td>...</td>\n",
       "      <td>29.320632</td>\n",
       "      <td>5229.306152</td>\n",
       "      <td>NaN</td>\n",
       "      <td>10.211500</td>\n",
       "      <td>3.723</td>\n",
       "      <td>29.269</td>\n",
       "      <td>9.797</td>\n",
       "      <td>NaN</td>\n",
       "      <td>NaN</td>\n",
       "      <td>NaN</td>\n",
       "    </tr>\n",
       "    <tr>\n",
       "      <th>4</th>\n",
       "      <td>1995</td>\n",
       "      <td>960482795</td>\n",
       "      <td>351812243</td>\n",
       "      <td>569664412</td>\n",
       "      <td>39006140</td>\n",
       "      <td>354544513</td>\n",
       "      <td>368221327</td>\n",
       "      <td>NaN</td>\n",
       "      <td>NaN</td>\n",
       "      <td>NaN</td>\n",
       "      <td>...</td>\n",
       "      <td>27.230282</td>\n",
       "      <td>5517.840820</td>\n",
       "      <td>NaN</td>\n",
       "      <td>10.224888</td>\n",
       "      <td>3.651</td>\n",
       "      <td>28.767</td>\n",
       "      <td>9.566</td>\n",
       "      <td>NaN</td>\n",
       "      <td>NaN</td>\n",
       "      <td>NaN</td>\n",
       "    </tr>\n",
       "  </tbody>\n",
       "</table>\n",
       "<p>5 rows × 28 columns</p>\n",
       "</div>"
      ],
      "text/plain": [
       "   Years   POP_TOTL    POP_014   POP_1564    POP_65   EMP_TOTL    LF_TOTL  \\\n",
       "0   1991  888054875  335068163  518486703  34500009  322457613  335309031   \n",
       "1   1992  906021106  339847574  530519741  35653791  330588722  343350282   \n",
       "2   1993  924057817  344302685  542975424  36779708  338675554  351841793   \n",
       "3   1994  942204249  348305135  556006717  37892397  347763564  360942196   \n",
       "4   1995  960482795  351812243  569664412  39006140  354544513  368221327   \n",
       "\n",
       "   LF_ADVN_EDU  LF_BASC_EDU  LF_INTM_EDU  ...    GDP_AGR   GDP_PP_EMP  \\\n",
       "0          NaN          NaN          NaN  ...  30.479612  4785.413086   \n",
       "1          NaN          NaN          NaN  ...  29.801484  4923.649902   \n",
       "2          NaN          NaN          NaN  ...  29.740630  5034.382812   \n",
       "3        37.07        18.34        18.35  ...  29.320632  5229.306152   \n",
       "4          NaN          NaN          NaN  ...  27.230282  5517.840820   \n",
       "\n",
       "   XPD_TOTL_EDU       INFL   FRTL      BR      DR  D_COM  D_INJ  D_NC  \n",
       "0           NaN  13.870246  3.959  30.915  10.585    NaN    NaN   NaN  \n",
       "1           NaN  11.787819  3.877  30.346  10.311    NaN    NaN   NaN  \n",
       "2           NaN   6.362039  3.799  29.796  10.047    NaN    NaN   NaN  \n",
       "3           NaN  10.211500  3.723  29.269   9.797    NaN    NaN   NaN  \n",
       "4           NaN  10.224888  3.651  28.767   9.566    NaN    NaN   NaN  \n",
       "\n",
       "[5 rows x 28 columns]"
      ]
     },
     "execution_count": 3,
     "metadata": {},
     "output_type": "execute_result"
    }
   ],
   "source": [
    "df.head()\n"
   ]
  },
  {
   "cell_type": "code",
   "execution_count": 4,
   "id": "a748ad5a",
   "metadata": {
    "execution": {
     "iopub.execute_input": "2023-10-31T08:28:25.444914Z",
     "iopub.status.busy": "2023-10-31T08:28:25.444193Z",
     "iopub.status.idle": "2023-10-31T08:28:25.470598Z",
     "shell.execute_reply": "2023-10-31T08:28:25.469408Z"
    },
    "papermill": {
     "duration": 0.042309,
     "end_time": "2023-10-31T08:28:25.473429",
     "exception": false,
     "start_time": "2023-10-31T08:28:25.431120",
     "status": "completed"
    },
    "tags": []
   },
   "outputs": [
    {
     "data": {
      "text/plain": [
       "<bound method DataFrame.info of     Years    POP_TOTL    POP_014   POP_1564    POP_65   EMP_TOTL    LF_TOTL  \\\n",
       "0    1991   888054875  335068163  518486703  34500009  322457613  335309031   \n",
       "1    1992   906021106  339847574  530519741  35653791  330588722  343350282   \n",
       "2    1993   924057817  344302685  542975424  36779708  338675554  351841793   \n",
       "3    1994   942204249  348305135  556006717  37892397  347763564  360942196   \n",
       "4    1995   960482795  351812243  569664412  39006140  354544513  368221327   \n",
       "5    1996   978893217  355436705  582956716  40499796  360950150  375264721   \n",
       "6    1997   997405318  358612537  596826819  41965962  367018404  382547455   \n",
       "7    1998  1015974042  361355075  611202313  43416654  374193286  390041620   \n",
       "8    1999  1034539214  363723543  625949542  44866129  381553256  397713183   \n",
       "9    2000  1053050912  365773765  640951008  46326139  388009195  405521019   \n",
       "10   2001  1071477855  368339237  655096984  48041634  398967891  417003387   \n",
       "11   2002  1089807112  370455776  669605816  49745520  409857630  428862880   \n",
       "12   2003  1108027848  372221586  684389867  51416395  422043768  441049645   \n",
       "13   2004  1126135777  373755592  699358935  53021250  433679454  453489620   \n",
       "14   2005  1144118674  375114219  714450930  54553525  445661145  466155121   \n",
       "15   2006  1161977719  376811884  728846310  56319525  447379642  467165824   \n",
       "16   2007  1179681239  378289367  743374311  58017561  449116031  468125060   \n",
       "17   2008  1197146906  379470915  758006442  59669549  449697278  469002609   \n",
       "18   2009  1214270132  380174492  772795808  61299832  452204952  469829385   \n",
       "19   2010  1230980691  380274337  787765404  62940950  453945418  470610752   \n",
       "20   2011  1247236029  380287007  802018310  64930712  456968822  473683611   \n",
       "21   2012  1263065852  379512707  816654594  66898551  459535976  476800625   \n",
       "22   2013  1278562207  378168020  831445906  68948281  469078361  485906723   \n",
       "23   2014  1293859294  376631361  846013020  71214913  478059189  494963721   \n",
       "24   2015  1309053980  375144882  860127604  73781494  486249129  503834632   \n",
       "25   2016  1324171354  373356040  873908707  76906607  494794795  512765199   \n",
       "\n",
       "    LF_ADVN_EDU  LF_BASC_EDU  LF_INTM_EDU  ...    GDP_AGR    GDP_PP_EMP  \\\n",
       "0           NaN          NaN          NaN  ...  30.479612   4785.413086   \n",
       "1           NaN          NaN          NaN  ...  29.801484   4923.649902   \n",
       "2           NaN          NaN          NaN  ...  29.740630   5034.382812   \n",
       "3     37.070000    18.340000        18.35  ...  29.320632   5229.306152   \n",
       "4           NaN          NaN          NaN  ...  27.230282   5517.840820   \n",
       "5           NaN          NaN          NaN  ...  28.133606   5829.019043   \n",
       "6           NaN          NaN          NaN  ...  26.847184   5964.886230   \n",
       "7           NaN          NaN          NaN  ...  26.747595   6212.314941   \n",
       "8           NaN          NaN          NaN  ...  25.411093   6631.352051   \n",
       "9     32.430000    19.510000        14.98  ...  23.875757   6771.458984   \n",
       "10          NaN          NaN          NaN  ...  23.772518   6903.245117   \n",
       "11          NaN          NaN          NaN  ...  21.463368   6975.417969   \n",
       "12          NaN          NaN          NaN  ...  21.512125   7306.436035   \n",
       "13          NaN          NaN          NaN  ...  19.734311   7673.844238   \n",
       "14    35.410000    23.219999        22.92  ...  19.508246   8160.796875   \n",
       "15          NaN          NaN          NaN  ...  18.966554   8882.623047   \n",
       "16          NaN          NaN          NaN  ...  18.933416   9715.407227   \n",
       "17          NaN          NaN          NaN  ...  18.443975  10080.453125   \n",
       "18          NaN          NaN          NaN  ...  18.394507  10874.654297   \n",
       "19    29.690001    20.620001        15.42  ...  18.880686  11944.272461   \n",
       "20          NaN          NaN          NaN  ...  18.526672  12653.107422   \n",
       "21    30.809999    18.020000        14.66  ...  18.202353  13268.958984   \n",
       "22          NaN          NaN          NaN  ...  18.588666  13829.193359   \n",
       "23          NaN          NaN          NaN  ...  18.019463  14587.582031   \n",
       "24          NaN          NaN          NaN  ...  17.462150  15490.797852   \n",
       "25          NaN          NaN          NaN  ...  17.352595  16305.243164   \n",
       "\n",
       "    XPD_TOTL_EDU       INFL   FRTL      BR      DR  D_COM  D_INJ  D_NC  \n",
       "0            NaN  13.870246  3.959  30.915  10.585    NaN    NaN   NaN  \n",
       "1            NaN  11.787819  3.877  30.346  10.311    NaN    NaN   NaN  \n",
       "2            NaN   6.362039  3.799  29.796  10.047    NaN    NaN   NaN  \n",
       "3            NaN  10.211500  3.723  29.269   9.797    NaN    NaN   NaN  \n",
       "4            NaN  10.224888  3.651  28.767   9.566    NaN    NaN   NaN  \n",
       "5            NaN   8.977149  3.582  28.288   9.356    NaN    NaN   NaN  \n",
       "6        3.40681   7.164254  3.514  27.824   9.166    NaN    NaN   NaN  \n",
       "7        3.62086  13.230841  3.446  27.367   8.993    NaN    NaN   NaN  \n",
       "8        4.47509   4.669821  3.379  26.914   8.836    NaN    NaN   NaN  \n",
       "9        4.38326   4.009434  3.311  26.463   8.692   43.7   10.2  46.1  \n",
       "10           NaN   3.684807  3.243  26.012   8.560    NaN    NaN   NaN  \n",
       "11           NaN   4.392200  3.175  25.561   8.435    NaN    NaN   NaN  \n",
       "12       3.66227   3.805866  3.107  25.108   8.316    NaN    NaN   NaN  \n",
       "13       3.39787   3.767238  3.038  24.648   8.199    NaN    NaN   NaN  \n",
       "14       3.23187   4.246353  2.969  24.171   8.084   39.5   10.4  50.0  \n",
       "15       3.18745   6.145522  2.897  23.664   7.967    NaN    NaN   NaN  \n",
       "16           NaN   6.369997  2.823  23.126   7.852    NaN    NaN   NaN  \n",
       "17           NaN   8.351816  2.748  22.562   7.739    NaN    NaN   NaN  \n",
       "18       3.31124  10.877391  2.673  21.982   7.632    NaN    NaN   NaN  \n",
       "19       3.42347  11.992297  2.601  21.408   7.534   33.4   10.9  55.7  \n",
       "20       3.83972   8.857845  2.534  20.864   7.451    NaN    NaN   NaN  \n",
       "21       3.86750   9.312446  2.475  20.370   7.385    NaN    NaN   NaN  \n",
       "22       3.84467  10.907643  2.425  19.938   7.339    NaN    NaN   NaN  \n",
       "23           NaN   6.649500  2.384  19.573   7.312    NaN    NaN   NaN  \n",
       "24           NaN   4.906973  2.352  19.269   7.303   28.1   11.1  60.8  \n",
       "25           NaN   4.941447  2.326  19.013   7.310    NaN    NaN   NaN  \n",
       "\n",
       "[26 rows x 28 columns]>"
      ]
     },
     "execution_count": 4,
     "metadata": {},
     "output_type": "execute_result"
    }
   ],
   "source": [
    "df.info"
   ]
  },
  {
   "cell_type": "code",
   "execution_count": 5,
   "id": "8a3d2eed",
   "metadata": {
    "execution": {
     "iopub.execute_input": "2023-10-31T08:28:25.499849Z",
     "iopub.status.busy": "2023-10-31T08:28:25.499413Z",
     "iopub.status.idle": "2023-10-31T08:28:25.596966Z",
     "shell.execute_reply": "2023-10-31T08:28:25.595588Z"
    },
    "papermill": {
     "duration": 0.115281,
     "end_time": "2023-10-31T08:28:25.600829",
     "exception": false,
     "start_time": "2023-10-31T08:28:25.485548",
     "status": "completed"
    },
    "tags": []
   },
   "outputs": [
    {
     "data": {
      "text/html": [
       "<div>\n",
       "<style scoped>\n",
       "    .dataframe tbody tr th:only-of-type {\n",
       "        vertical-align: middle;\n",
       "    }\n",
       "\n",
       "    .dataframe tbody tr th {\n",
       "        vertical-align: top;\n",
       "    }\n",
       "\n",
       "    .dataframe thead th {\n",
       "        text-align: right;\n",
       "    }\n",
       "</style>\n",
       "<table border=\"1\" class=\"dataframe\">\n",
       "  <thead>\n",
       "    <tr style=\"text-align: right;\">\n",
       "      <th></th>\n",
       "      <th>Years</th>\n",
       "      <th>POP_TOTL</th>\n",
       "      <th>POP_014</th>\n",
       "      <th>POP_1564</th>\n",
       "      <th>POP_65</th>\n",
       "      <th>EMP_TOTL</th>\n",
       "      <th>LF_TOTL</th>\n",
       "      <th>LF_ADVN_EDU</th>\n",
       "      <th>LF_BASC_EDU</th>\n",
       "      <th>LF_INTM_EDU</th>\n",
       "      <th>...</th>\n",
       "      <th>GDP_AGR</th>\n",
       "      <th>GDP_PP_EMP</th>\n",
       "      <th>XPD_TOTL_EDU</th>\n",
       "      <th>INFL</th>\n",
       "      <th>FRTL</th>\n",
       "      <th>BR</th>\n",
       "      <th>DR</th>\n",
       "      <th>D_COM</th>\n",
       "      <th>D_INJ</th>\n",
       "      <th>D_NC</th>\n",
       "    </tr>\n",
       "  </thead>\n",
       "  <tbody>\n",
       "    <tr>\n",
       "      <th>count</th>\n",
       "      <td>26.000000</td>\n",
       "      <td>2.600000e+01</td>\n",
       "      <td>2.600000e+01</td>\n",
       "      <td>2.600000e+01</td>\n",
       "      <td>2.600000e+01</td>\n",
       "      <td>2.600000e+01</td>\n",
       "      <td>2.600000e+01</td>\n",
       "      <td>5.000000</td>\n",
       "      <td>5.000000</td>\n",
       "      <td>5.00000</td>\n",
       "      <td>...</td>\n",
       "      <td>26.000000</td>\n",
       "      <td>26.000000</td>\n",
       "      <td>13.000000</td>\n",
       "      <td>26.000000</td>\n",
       "      <td>26.000000</td>\n",
       "      <td>26.000000</td>\n",
       "      <td>26.000000</td>\n",
       "      <td>4.000000</td>\n",
       "      <td>4.000000</td>\n",
       "      <td>4.000000</td>\n",
       "    </tr>\n",
       "    <tr>\n",
       "      <th>mean</th>\n",
       "      <td>2003.500000</td>\n",
       "      <td>1.113087e+09</td>\n",
       "      <td>3.670094e+08</td>\n",
       "      <td>6.930538e+08</td>\n",
       "      <td>5.302358e+07</td>\n",
       "      <td>4.143459e+08</td>\n",
       "      <td>4.311539e+08</td>\n",
       "      <td>33.082000</td>\n",
       "      <td>19.942000</td>\n",
       "      <td>17.26600</td>\n",
       "      <td>...</td>\n",
       "      <td>22.513442</td>\n",
       "      <td>8905.832970</td>\n",
       "      <td>3.665545</td>\n",
       "      <td>7.681436</td>\n",
       "      <td>3.077346</td>\n",
       "      <td>24.739154</td>\n",
       "      <td>8.452577</td>\n",
       "      <td>36.175000</td>\n",
       "      <td>10.650000</td>\n",
       "      <td>53.150000</td>\n",
       "    </tr>\n",
       "    <tr>\n",
       "      <th>std</th>\n",
       "      <td>7.648529</td>\n",
       "      <td>1.352482e+08</td>\n",
       "      <td>1.362238e+07</td>\n",
       "      <td>1.104474e+08</td>\n",
       "      <td>1.268757e+07</td>\n",
       "      <td>5.232360e+07</td>\n",
       "      <td>5.407742e+07</td>\n",
       "      <td>3.099051</td>\n",
       "      <td>2.100719</td>\n",
       "      <td>3.48452</td>\n",
       "      <td>...</td>\n",
       "      <td>4.607545</td>\n",
       "      <td>3595.244041</td>\n",
       "      <td>0.409783</td>\n",
       "      <td>3.212800</td>\n",
       "      <td>0.518171</td>\n",
       "      <td>3.715523</td>\n",
       "      <td>1.011458</td>\n",
       "      <td>6.845619</td>\n",
       "      <td>0.420317</td>\n",
       "      <td>6.445929</td>\n",
       "    </tr>\n",
       "    <tr>\n",
       "      <th>min</th>\n",
       "      <td>1991.000000</td>\n",
       "      <td>8.880549e+08</td>\n",
       "      <td>3.350682e+08</td>\n",
       "      <td>5.184867e+08</td>\n",
       "      <td>3.450001e+07</td>\n",
       "      <td>3.224576e+08</td>\n",
       "      <td>3.353090e+08</td>\n",
       "      <td>29.690001</td>\n",
       "      <td>18.020000</td>\n",
       "      <td>14.66000</td>\n",
       "      <td>...</td>\n",
       "      <td>17.352595</td>\n",
       "      <td>4785.413086</td>\n",
       "      <td>3.187450</td>\n",
       "      <td>3.684807</td>\n",
       "      <td>2.326000</td>\n",
       "      <td>19.013000</td>\n",
       "      <td>7.303000</td>\n",
       "      <td>28.100000</td>\n",
       "      <td>10.200000</td>\n",
       "      <td>46.100000</td>\n",
       "    </tr>\n",
       "    <tr>\n",
       "      <th>25%</th>\n",
       "      <td>1997.250000</td>\n",
       "      <td>1.002047e+09</td>\n",
       "      <td>3.592982e+08</td>\n",
       "      <td>6.004207e+08</td>\n",
       "      <td>4.232864e+07</td>\n",
       "      <td>3.688121e+08</td>\n",
       "      <td>3.844210e+08</td>\n",
       "      <td>30.809999</td>\n",
       "      <td>18.340000</td>\n",
       "      <td>14.98000</td>\n",
       "      <td>...</td>\n",
       "      <td>18.542171</td>\n",
       "      <td>6026.743408</td>\n",
       "      <td>3.397870</td>\n",
       "      <td>4.729109</td>\n",
       "      <td>2.619000</td>\n",
       "      <td>21.551500</td>\n",
       "      <td>7.558500</td>\n",
       "      <td>32.075000</td>\n",
       "      <td>10.350000</td>\n",
       "      <td>49.025000</td>\n",
       "    </tr>\n",
       "    <tr>\n",
       "      <th>50%</th>\n",
       "      <td>2003.500000</td>\n",
       "      <td>1.117082e+09</td>\n",
       "      <td>3.727888e+08</td>\n",
       "      <td>6.918744e+08</td>\n",
       "      <td>5.221882e+07</td>\n",
       "      <td>4.278616e+08</td>\n",
       "      <td>4.472696e+08</td>\n",
       "      <td>32.430000</td>\n",
       "      <td>19.510000</td>\n",
       "      <td>15.42000</td>\n",
       "      <td>...</td>\n",
       "      <td>20.598840</td>\n",
       "      <td>7490.140137</td>\n",
       "      <td>3.620860</td>\n",
       "      <td>6.906877</td>\n",
       "      <td>3.072500</td>\n",
       "      <td>24.878000</td>\n",
       "      <td>8.257500</td>\n",
       "      <td>36.450000</td>\n",
       "      <td>10.650000</td>\n",
       "      <td>52.850000</td>\n",
       "    </tr>\n",
       "    <tr>\n",
       "      <th>75%</th>\n",
       "      <td>2009.750000</td>\n",
       "      <td>1.226803e+09</td>\n",
       "      <td>3.778290e+08</td>\n",
       "      <td>7.840230e+08</td>\n",
       "      <td>6.253067e+07</td>\n",
       "      <td>4.535103e+08</td>\n",
       "      <td>4.704154e+08</td>\n",
       "      <td>35.410000</td>\n",
       "      <td>20.620001</td>\n",
       "      <td>18.35000</td>\n",
       "      <td>...</td>\n",
       "      <td>26.822287</td>\n",
       "      <td>11676.867920</td>\n",
       "      <td>3.844670</td>\n",
       "      <td>10.221541</td>\n",
       "      <td>3.497000</td>\n",
       "      <td>27.709750</td>\n",
       "      <td>9.122750</td>\n",
       "      <td>40.550000</td>\n",
       "      <td>10.950000</td>\n",
       "      <td>56.975000</td>\n",
       "    </tr>\n",
       "    <tr>\n",
       "      <th>max</th>\n",
       "      <td>2016.000000</td>\n",
       "      <td>1.324171e+09</td>\n",
       "      <td>3.802870e+08</td>\n",
       "      <td>8.739087e+08</td>\n",
       "      <td>7.690661e+07</td>\n",
       "      <td>4.947948e+08</td>\n",
       "      <td>5.127652e+08</td>\n",
       "      <td>37.070000</td>\n",
       "      <td>23.219999</td>\n",
       "      <td>22.92000</td>\n",
       "      <td>...</td>\n",
       "      <td>30.479612</td>\n",
       "      <td>16305.243164</td>\n",
       "      <td>4.475090</td>\n",
       "      <td>13.870246</td>\n",
       "      <td>3.959000</td>\n",
       "      <td>30.915000</td>\n",
       "      <td>10.585000</td>\n",
       "      <td>43.700000</td>\n",
       "      <td>11.100000</td>\n",
       "      <td>60.800000</td>\n",
       "    </tr>\n",
       "  </tbody>\n",
       "</table>\n",
       "<p>8 rows × 28 columns</p>\n",
       "</div>"
      ],
      "text/plain": [
       "             Years      POP_TOTL       POP_014      POP_1564        POP_65  \\\n",
       "count    26.000000  2.600000e+01  2.600000e+01  2.600000e+01  2.600000e+01   \n",
       "mean   2003.500000  1.113087e+09  3.670094e+08  6.930538e+08  5.302358e+07   \n",
       "std       7.648529  1.352482e+08  1.362238e+07  1.104474e+08  1.268757e+07   \n",
       "min    1991.000000  8.880549e+08  3.350682e+08  5.184867e+08  3.450001e+07   \n",
       "25%    1997.250000  1.002047e+09  3.592982e+08  6.004207e+08  4.232864e+07   \n",
       "50%    2003.500000  1.117082e+09  3.727888e+08  6.918744e+08  5.221882e+07   \n",
       "75%    2009.750000  1.226803e+09  3.778290e+08  7.840230e+08  6.253067e+07   \n",
       "max    2016.000000  1.324171e+09  3.802870e+08  8.739087e+08  7.690661e+07   \n",
       "\n",
       "           EMP_TOTL       LF_TOTL  LF_ADVN_EDU  LF_BASC_EDU  LF_INTM_EDU  ...  \\\n",
       "count  2.600000e+01  2.600000e+01     5.000000     5.000000      5.00000  ...   \n",
       "mean   4.143459e+08  4.311539e+08    33.082000    19.942000     17.26600  ...   \n",
       "std    5.232360e+07  5.407742e+07     3.099051     2.100719      3.48452  ...   \n",
       "min    3.224576e+08  3.353090e+08    29.690001    18.020000     14.66000  ...   \n",
       "25%    3.688121e+08  3.844210e+08    30.809999    18.340000     14.98000  ...   \n",
       "50%    4.278616e+08  4.472696e+08    32.430000    19.510000     15.42000  ...   \n",
       "75%    4.535103e+08  4.704154e+08    35.410000    20.620001     18.35000  ...   \n",
       "max    4.947948e+08  5.127652e+08    37.070000    23.219999     22.92000  ...   \n",
       "\n",
       "         GDP_AGR    GDP_PP_EMP  XPD_TOTL_EDU       INFL       FRTL         BR  \\\n",
       "count  26.000000     26.000000     13.000000  26.000000  26.000000  26.000000   \n",
       "mean   22.513442   8905.832970      3.665545   7.681436   3.077346  24.739154   \n",
       "std     4.607545   3595.244041      0.409783   3.212800   0.518171   3.715523   \n",
       "min    17.352595   4785.413086      3.187450   3.684807   2.326000  19.013000   \n",
       "25%    18.542171   6026.743408      3.397870   4.729109   2.619000  21.551500   \n",
       "50%    20.598840   7490.140137      3.620860   6.906877   3.072500  24.878000   \n",
       "75%    26.822287  11676.867920      3.844670  10.221541   3.497000  27.709750   \n",
       "max    30.479612  16305.243164      4.475090  13.870246   3.959000  30.915000   \n",
       "\n",
       "              DR      D_COM      D_INJ       D_NC  \n",
       "count  26.000000   4.000000   4.000000   4.000000  \n",
       "mean    8.452577  36.175000  10.650000  53.150000  \n",
       "std     1.011458   6.845619   0.420317   6.445929  \n",
       "min     7.303000  28.100000  10.200000  46.100000  \n",
       "25%     7.558500  32.075000  10.350000  49.025000  \n",
       "50%     8.257500  36.450000  10.650000  52.850000  \n",
       "75%     9.122750  40.550000  10.950000  56.975000  \n",
       "max    10.585000  43.700000  11.100000  60.800000  \n",
       "\n",
       "[8 rows x 28 columns]"
      ]
     },
     "execution_count": 5,
     "metadata": {},
     "output_type": "execute_result"
    }
   ],
   "source": [
    "df.describe()"
   ]
  },
  {
   "cell_type": "code",
   "execution_count": 6,
   "id": "fd90baca",
   "metadata": {
    "execution": {
     "iopub.execute_input": "2023-10-31T08:28:25.628185Z",
     "iopub.status.busy": "2023-10-31T08:28:25.627756Z",
     "iopub.status.idle": "2023-10-31T08:28:25.636435Z",
     "shell.execute_reply": "2023-10-31T08:28:25.635201Z"
    },
    "papermill": {
     "duration": 0.025079,
     "end_time": "2023-10-31T08:28:25.638753",
     "exception": false,
     "start_time": "2023-10-31T08:28:25.613674",
     "status": "completed"
    },
    "tags": []
   },
   "outputs": [
    {
     "data": {
      "text/plain": [
       "Index(['Years', 'POP_TOTL', 'POP_014', 'POP_1564', 'POP_65', 'EMP_TOTL',\n",
       "       'LF_TOTL', 'LF_ADVN_EDU', 'LF_BASC_EDU', 'LF_INTM_EDU', 'UEM_TOTL',\n",
       "       'UEM_ADVN_EDU', 'UEM_INTM_EDU', 'EMP_SELF', 'EMP_SRV', 'EMP_IND',\n",
       "       'EMP_AGR', 'GDP_IND', 'GDP_AGR', 'GDP_PP_EMP', 'XPD_TOTL_EDU', 'INFL',\n",
       "       'FRTL', 'BR', 'DR', 'D_COM', 'D_INJ', 'D_NC'],\n",
       "      dtype='object')"
      ]
     },
     "execution_count": 6,
     "metadata": {},
     "output_type": "execute_result"
    }
   ],
   "source": [
    "df.columns"
   ]
  },
  {
   "cell_type": "code",
   "execution_count": 7,
   "id": "bcf3d0da",
   "metadata": {
    "execution": {
     "iopub.execute_input": "2023-10-31T08:28:25.665688Z",
     "iopub.status.busy": "2023-10-31T08:28:25.665225Z",
     "iopub.status.idle": "2023-10-31T08:28:25.687857Z",
     "shell.execute_reply": "2023-10-31T08:28:25.686313Z"
    },
    "papermill": {
     "duration": 0.038904,
     "end_time": "2023-10-31T08:28:25.690220",
     "exception": false,
     "start_time": "2023-10-31T08:28:25.651316",
     "status": "completed"
    },
    "tags": []
   },
   "outputs": [
    {
     "name": "stdout",
     "output_type": "stream",
     "text": [
      "Removed columns: Index(['D_COM', 'D_INJ', 'D_NC', 'LF_ADVN_EDU', 'LF_BASC_EDU', 'LF_INTM_EDU',\n",
      "       'UEM_ADVN_EDU', 'UEM_INTM_EDU'],\n",
      "      dtype='object')\n"
     ]
    }
   ],
   "source": [
    "import pandas as pd\n",
    "\n",
    "threshold = 0.30  \n",
    "\n",
    "max_missing_values = len(df) * threshold\n",
    "\n",
    "cdf = df.dropna(axis=1, thresh=max_missing_values)\n",
    "\n",
    "removed_columns = df.columns.difference(cdf.columns)\n",
    "print(\"Removed columns:\", removed_columns)\n",
    "\n",
    "cdf.to_csv(\"cleaned_dataset.csv\", index=False)\n"
   ]
  },
  {
   "cell_type": "code",
   "execution_count": 8,
   "id": "c3b2a36c",
   "metadata": {
    "execution": {
     "iopub.execute_input": "2023-10-31T08:28:25.717426Z",
     "iopub.status.busy": "2023-10-31T08:28:25.717006Z",
     "iopub.status.idle": "2023-10-31T08:28:25.732957Z",
     "shell.execute_reply": "2023-10-31T08:28:25.731596Z"
    },
    "papermill": {
     "duration": 0.032766,
     "end_time": "2023-10-31T08:28:25.735652",
     "exception": false,
     "start_time": "2023-10-31T08:28:25.702886",
     "status": "completed"
    },
    "tags": []
   },
   "outputs": [
    {
     "name": "stdout",
     "output_type": "stream",
     "text": [
      "   Years   POP_TOTL    POP_014   POP_1564    POP_65   EMP_TOTL    LF_TOTL  \\\n",
      "0   1991  888054875  335068163  518486703  34500009  322457613  335309031   \n",
      "1   1992  906021106  339847574  530519741  35653791  330588722  343350282   \n",
      "2   1993  924057817  344302685  542975424  36779708  338675554  351841793   \n",
      "3   1994  942204249  348305135  556006717  37892397  347763564  360942196   \n",
      "4   1995  960482795  351812243  569664412  39006140  354544513  368221327   \n",
      "\n",
      "   UEM_TOTL   EMP_SELF    EMP_SRV    EMP_IND    EMP_AGR    GDP_IND    GDP_AGR  \\\n",
      "0     3.832  86.175003  21.600000  14.814000  63.585999  30.329067  30.479612   \n",
      "1     3.717  86.040001  21.912001  14.970000  63.118000  30.769497  29.801484   \n",
      "2     3.741  85.856003  22.249001  14.896000  62.855000  30.444605  29.740630   \n",
      "3     3.652  85.315002  22.396999  15.425000  62.178001  31.528360  29.320632   \n",
      "4     3.716  85.813004  22.605000  16.146999  61.248001  32.718281  27.230282   \n",
      "\n",
      "    GDP_PP_EMP  XPD_TOTL_EDU       INFL   FRTL      BR      DR  \n",
      "0  4785.413086           NaN  13.870246  3.959  30.915  10.585  \n",
      "1  4923.649902           NaN  11.787819  3.877  30.346  10.311  \n",
      "2  5034.382812           NaN   6.362039  3.799  29.796  10.047  \n",
      "3  5229.306152           NaN  10.211500  3.723  29.269   9.797  \n",
      "4  5517.840820           NaN  10.224888  3.651  28.767   9.566  \n"
     ]
    }
   ],
   "source": [
    "print(cdf.head())"
   ]
  },
  {
   "cell_type": "markdown",
   "id": "175456cd",
   "metadata": {
    "papermill": {
     "duration": 0.012763,
     "end_time": "2023-10-31T08:28:25.761856",
     "exception": false,
     "start_time": "2023-10-31T08:28:25.749093",
     "status": "completed"
    },
    "tags": []
   },
   "source": [
    "MEAN MEDIAN AND MODE"
   ]
  },
  {
   "cell_type": "code",
   "execution_count": 9,
   "id": "20cad6b0",
   "metadata": {
    "execution": {
     "iopub.execute_input": "2023-10-31T08:28:25.792870Z",
     "iopub.status.busy": "2023-10-31T08:28:25.792474Z",
     "iopub.status.idle": "2023-10-31T08:28:25.823278Z",
     "shell.execute_reply": "2023-10-31T08:28:25.822019Z"
    },
    "papermill": {
     "duration": 0.050576,
     "end_time": "2023-10-31T08:28:25.825921",
     "exception": false,
     "start_time": "2023-10-31T08:28:25.775345",
     "status": "completed"
    },
    "tags": []
   },
   "outputs": [
    {
     "name": "stdout",
     "output_type": "stream",
     "text": [
      "                      Mean        Median          Mode       Std Dev  \\\n",
      "Years         2.003500e+03  2.003500e+03  1.991000e+03  7.648529e+00   \n",
      "POP_TOTL      1.113087e+09  1.117082e+09  8.880549e+08  1.352482e+08   \n",
      "POP_014       3.670094e+08  3.727888e+08  3.350682e+08  1.362238e+07   \n",
      "POP_1564      6.930538e+08  6.918744e+08  5.184867e+08  1.104474e+08   \n",
      "POP_65        5.302358e+07  5.221882e+07  3.450001e+07  1.268757e+07   \n",
      "EMP_TOTL      4.143459e+08  4.278616e+08  3.224576e+08  5.232360e+07   \n",
      "LF_TOTL       4.311539e+08  4.472696e+08  3.353090e+08  5.407742e+07   \n",
      "UEM_TOTL      3.905154e+00  3.823000e+00  4.060000e+00  3.357904e-01   \n",
      "EMP_SELF      8.446735e+01  8.522350e+01  7.908100e+01  2.697405e+00   \n",
      "EMP_SRV       2.542438e+01  2.457000e+01  2.160000e+01  3.100051e+00   \n",
      "EMP_IND       1.883496e+01  1.764550e+01  1.481400e+01  3.470477e+00   \n",
      "EMP_AGR       5.574062e+01  5.778450e+01  4.344400e+01  6.463467e+00   \n",
      "GDP_IND       3.162751e+01  3.138825e+01  2.884509e+01  1.531180e+00   \n",
      "GDP_AGR       2.251344e+01  2.059884e+01  1.735260e+01  4.607545e+00   \n",
      "GDP_PP_EMP    8.905833e+03  7.490140e+03  4.785413e+03  3.595244e+03   \n",
      "XPD_TOTL_EDU  3.665545e+00  3.620860e+00  3.187450e+00  4.097833e-01   \n",
      "INFL          7.681436e+00  6.906877e+00  3.684807e+00  3.212800e+00   \n",
      "FRTL          3.077346e+00  3.072500e+00  2.326000e+00  5.181713e-01   \n",
      "BR            2.473915e+01  2.487800e+01  1.901300e+01  3.715523e+00   \n",
      "DR            8.452577e+00  8.257500e+00  7.303000e+00  1.011458e+00   \n",
      "\n",
      "                     Range  \n",
      "Years         2.500000e+01  \n",
      "POP_TOTL      4.361165e+08  \n",
      "POP_014       4.521884e+07  \n",
      "POP_1564      3.554220e+08  \n",
      "POP_65        4.240660e+07  \n",
      "EMP_TOTL      1.723372e+08  \n",
      "LF_TOTL       1.774562e+08  \n",
      "UEM_TOTL      1.018000e+00  \n",
      "EMP_SELF      9.130997e+00  \n",
      "EMP_SRV       1.123500e+01  \n",
      "EMP_IND       9.540999e+00  \n",
      "EMP_AGR       2.014200e+01  \n",
      "GDP_IND       5.819624e+00  \n",
      "GDP_AGR       1.312702e+01  \n",
      "GDP_PP_EMP    1.151983e+04  \n",
      "XPD_TOTL_EDU  1.287640e+00  \n",
      "INFL          1.018544e+01  \n",
      "FRTL          1.633000e+00  \n",
      "BR            1.190200e+01  \n",
      "DR            3.282000e+00  \n"
     ]
    }
   ],
   "source": [
    "mean = cdf.mean()\n",
    "median = cdf.median()\n",
    "mode = cdf.mode().iloc[0]  \n",
    "std_dev = cdf.std()\n",
    "range = cdf.max() - cdf.min()\n",
    "statistics_df = pd.DataFrame({\n",
    "    'Mean': mean,\n",
    "    'Median': median,\n",
    "    'Mode': mode,\n",
    "    'Std Dev': std_dev,\n",
    "    'Range': range\n",
    "})\n",
    "print(statistics_df)\n"
   ]
  },
  {
   "cell_type": "code",
   "execution_count": 10,
   "id": "89eb78fa",
   "metadata": {
    "execution": {
     "iopub.execute_input": "2023-10-31T08:28:25.854066Z",
     "iopub.status.busy": "2023-10-31T08:28:25.853631Z",
     "iopub.status.idle": "2023-10-31T08:28:25.869162Z",
     "shell.execute_reply": "2023-10-31T08:28:25.867819Z"
    },
    "papermill": {
     "duration": 0.032814,
     "end_time": "2023-10-31T08:28:25.871849",
     "exception": false,
     "start_time": "2023-10-31T08:28:25.839035",
     "status": "completed"
    },
    "tags": []
   },
   "outputs": [],
   "source": [
    "# Calculate the mean for each column\n",
    "column_means = cdf.mean()\n",
    "\n",
    "# Fill missing values with the mean of each column\n",
    "cdf_filled = cdf.fillna(column_means)\n"
   ]
  },
  {
   "cell_type": "markdown",
   "id": "a5f97dd6",
   "metadata": {
    "papermill": {
     "duration": 0.012752,
     "end_time": "2023-10-31T08:28:25.897844",
     "exception": false,
     "start_time": "2023-10-31T08:28:25.885092",
     "status": "completed"
    },
    "tags": []
   },
   "source": [
    "F-TEST ANOVA"
   ]
  },
  {
   "cell_type": "code",
   "execution_count": 11,
   "id": "21bf67a1",
   "metadata": {
    "execution": {
     "iopub.execute_input": "2023-10-31T08:28:25.925871Z",
     "iopub.status.busy": "2023-10-31T08:28:25.925477Z",
     "iopub.status.idle": "2023-10-31T08:28:27.142334Z",
     "shell.execute_reply": "2023-10-31T08:28:27.140851Z"
    },
    "papermill": {
     "duration": 1.234004,
     "end_time": "2023-10-31T08:28:27.145039",
     "exception": false,
     "start_time": "2023-10-31T08:28:25.911035",
     "status": "completed"
    },
    "tags": []
   },
   "outputs": [
    {
     "name": "stderr",
     "output_type": "stream",
     "text": [
      "/opt/conda/lib/python3.10/site-packages/scipy/stats/_stats_py.py:4141: DegenerateDataWarning: all input arrays have length 1.  f_oneway requires that at least one input has length greater than 1.\n",
      "  warnings.warn(stats.DegenerateDataWarning(msg))\n"
     ]
    },
    {
     "data": {
      "text/plain": [
       "(nan, nan)"
      ]
     },
     "execution_count": 11,
     "metadata": {},
     "output_type": "execute_result"
    }
   ],
   "source": [
    "import scipy.stats as stats\n",
    "\n",
    "# Drop rows with missing values in the 'POP_TOTL' column\n",
    "cdf_cleaned = cdf.dropna(subset=['POP_TOTL'])\n",
    "\n",
    "# Group 'POP_TOTL' data by 'Years'\n",
    "groups = [group[1]['POP_TOTL'] for group in cdf_cleaned.groupby('Years')]\n",
    "\n",
    "# Perform one-way ANOVA\n",
    "f_statistic, p_value = stats.f_oneway(*groups)\n",
    "\n",
    "f_statistic, p_value\n"
   ]
  },
  {
   "cell_type": "markdown",
   "id": "0fe08ffa",
   "metadata": {
    "papermill": {
     "duration": 0.013242,
     "end_time": "2023-10-31T08:28:27.171788",
     "exception": false,
     "start_time": "2023-10-31T08:28:27.158546",
     "status": "completed"
    },
    "tags": []
   },
   "source": [
    "**T-Test**"
   ]
  },
  {
   "cell_type": "code",
   "execution_count": 12,
   "id": "b8c00f20",
   "metadata": {
    "execution": {
     "iopub.execute_input": "2023-10-31T08:28:27.200342Z",
     "iopub.status.busy": "2023-10-31T08:28:27.199877Z",
     "iopub.status.idle": "2023-10-31T08:28:27.213217Z",
     "shell.execute_reply": "2023-10-31T08:28:27.211953Z"
    },
    "papermill": {
     "duration": 0.03216,
     "end_time": "2023-10-31T08:28:27.217246",
     "exception": false,
     "start_time": "2023-10-31T08:28:27.185086",
     "status": "completed"
    },
    "tags": []
   },
   "outputs": [
    {
     "name": "stdout",
     "output_type": "stream",
     "text": [
      "t-statistic: nan\n",
      "p-value: nan\n",
      "Result: We fail to reject the null hypothesis that there is a significant difference in total population between 1991 and 2016.\n"
     ]
    },
    {
     "name": "stderr",
     "output_type": "stream",
     "text": [
      "/opt/conda/lib/python3.10/site-packages/scipy/stats/_stats_py.py:7030: RuntimeWarning: invalid value encountered in double_scalars\n",
      "  svar = ((n1 - 1) * v1 + (n2 - 1) * v2) / df\n"
     ]
    }
   ],
   "source": [
    "import scipy.stats as stats\n",
    "\n",
    "# Extract the population data for the first and last years\n",
    "pop_1991 = cdf.loc[cdf['Years'] == 1991, 'POP_TOTL']\n",
    "pop_2016 = cdf.loc[cdf['Years'] == 2016, 'POP_TOTL']\n",
    "\n",
    "# Perform an independent two-sample t-test\n",
    "t_stat, p_value = stats.ttest_ind(pop_1991, pop_2016)\n",
    "\n",
    "# Set the significance level (alpha)\n",
    "alpha = 0.05\n",
    "\n",
    "# Check if the p-value is less than alpha\n",
    "if p_value < alpha:\n",
    "    result = \"reject the null hypothesis\"\n",
    "else:\n",
    "    result = \"fail to reject the null hypothesis\"\n",
    "\n",
    "print(f\"t-statistic: {t_stat}\")\n",
    "print(f\"p-value: {p_value}\")\n",
    "print(f\"Result: We {result} that there is a significant difference in total population between 1991 and 2016.\")\n"
   ]
  },
  {
   "cell_type": "markdown",
   "id": "148bcdb9",
   "metadata": {
    "papermill": {
     "duration": 0.013033,
     "end_time": "2023-10-31T08:28:27.244085",
     "exception": false,
     "start_time": "2023-10-31T08:28:27.231052",
     "status": "completed"
    },
    "tags": []
   },
   "source": [
    "**CHI SQUARE TEST**"
   ]
  },
  {
   "cell_type": "code",
   "execution_count": 13,
   "id": "1cf9bfc0",
   "metadata": {
    "execution": {
     "iopub.execute_input": "2023-10-31T08:28:27.274063Z",
     "iopub.status.busy": "2023-10-31T08:28:27.273660Z",
     "iopub.status.idle": "2023-10-31T08:28:27.314975Z",
     "shell.execute_reply": "2023-10-31T08:28:27.313761Z"
    },
    "papermill": {
     "duration": 0.059036,
     "end_time": "2023-10-31T08:28:27.317627",
     "exception": false,
     "start_time": "2023-10-31T08:28:27.258591",
     "status": "completed"
    },
    "tags": []
   },
   "outputs": [
    {
     "name": "stdout",
     "output_type": "stream",
     "text": [
      "Chi-Square Statistic: 650.0000000000002\n",
      "P-value: 0.236783220581745\n",
      "There is no significant association between 'Years' and 'POP_TOTL'.\n"
     ]
    }
   ],
   "source": [
    "import pandas as pd\n",
    "from scipy.stats import chi2_contingency\n",
    "\n",
    "contingency_table = pd.crosstab(cdf['Years'], cdf['POP_TOTL'])\n",
    "\n",
    "chi2, p, _, _ = chi2_contingency(contingency_table)\n",
    "\n",
    "alpha = 0.05\n",
    "\n",
    "if p <= alpha:\n",
    "    print(f\"Chi-Square Statistic: {chi2}\")\n",
    "    print(f\"P-value: {p}\")\n",
    "    print(\"There is a significant association between 'Years' and 'POP_TOTL'.\")\n",
    "else:\n",
    "    print(f\"Chi-Square Statistic: {chi2}\")\n",
    "    print(f\"P-value: {p}\")\n",
    "    print(\"There is no significant association between 'Years' and 'POP_TOTL'.\")\n",
    "\n",
    "\n"
   ]
  },
  {
   "cell_type": "markdown",
   "id": "a13947c3",
   "metadata": {
    "papermill": {
     "duration": 0.014658,
     "end_time": "2023-10-31T08:28:27.346177",
     "exception": false,
     "start_time": "2023-10-31T08:28:27.331519",
     "status": "completed"
    },
    "tags": []
   },
   "source": [
    "**Linear Regression**"
   ]
  },
  {
   "cell_type": "code",
   "execution_count": 14,
   "id": "af45e744",
   "metadata": {
    "execution": {
     "iopub.execute_input": "2023-10-31T08:28:27.375372Z",
     "iopub.status.busy": "2023-10-31T08:28:27.374675Z",
     "iopub.status.idle": "2023-10-31T08:28:30.263168Z",
     "shell.execute_reply": "2023-10-31T08:28:30.261636Z"
    },
    "papermill": {
     "duration": 2.906277,
     "end_time": "2023-10-31T08:28:30.266177",
     "exception": false,
     "start_time": "2023-10-31T08:28:27.359900",
     "status": "completed"
    },
    "tags": []
   },
   "outputs": [
    {
     "data": {
      "image/png": "[encoded data removed]",
      "text/plain": [
       "<Figure size 1200x600 with 2 Axes>"
      ]
     },
     "metadata": {},
     "output_type": "display_data"
    }
   ],
   "source": [
    "import pandas as pd\n",
    "import statsmodels.api as sm\n",
    "import matplotlib.pyplot as plt\n",
    "years = cdf['Years']\n",
    "gdp = cdf['GDP_IND']\n",
    "employment = cdf['EMP_TOTL']\n",
    "\n",
    "years = sm.add_constant(years)\n",
    "\n",
    "model_gdp = sm.OLS(gdp, years).fit()\n",
    "model_employment = sm.OLS(employment, years).fit()\n",
    "\n",
    "# Predict values using the models\n",
    "gdp_pred = model_gdp.predict(years)\n",
    "employment_pred = model_employment.predict(years)\n",
    "\n",
    "# Plot the data and regression lines\n",
    "plt.figure(figsize=(12, 6))\n",
    "\n",
    "plt.subplot(1, 2, 1)\n",
    "plt.scatter(cdf['Years'], cdf['GDP_IND'], label='Actual GDP')\n",
    "plt.plot(cdf['Years'], gdp_pred, color='red', label='Predicted GDP')\n",
    "plt.xlabel('Years')\n",
    "plt.ylabel('GDP_IND')\n",
    "plt.title('GDP vs Years')\n",
    "plt.legend()\n",
    "\n",
    "plt.subplot(1, 2, 2)\n",
    "plt.scatter(cdf['Years'], cdf['EMP_TOTL'], label='Actual Employment')\n",
    "plt.plot(cdf['Years'], employment_pred, color='red', label='Predicted Employment')\n",
    "plt.xlabel('Years')\n",
    "plt.ylabel('EMP_TOTL')\n",
    "plt.title('Employment vs Years')\n",
    "plt.legend()\n",
    "\n",
    "plt.tight_layout()\n",
    "plt.show()\n"
   ]
  },
  {
   "cell_type": "code",
   "execution_count": 15,
   "id": "616fa62f",
   "metadata": {
    "execution": {
     "iopub.execute_input": "2023-10-31T08:28:30.297854Z",
     "iopub.status.busy": "2023-10-31T08:28:30.296772Z",
     "iopub.status.idle": "2023-10-31T08:28:31.058900Z",
     "shell.execute_reply": "2023-10-31T08:28:31.057928Z"
    },
    "papermill": {
     "duration": 0.780548,
     "end_time": "2023-10-31T08:28:31.061479",
     "exception": false,
     "start_time": "2023-10-31T08:28:30.280931",
     "status": "completed"
    },
    "tags": []
   },
   "outputs": [
    {
     "name": "stderr",
     "output_type": "stream",
     "text": [
      "/tmp/ipykernel_20/2290664196.py:11: SettingWithCopyWarning: \n",
      "A value is trying to be set on a copy of a slice from a DataFrame.\n",
      "Try using .loc[row_indexer,col_indexer] = value instead\n",
      "\n",
      "See the caveats in the documentation: https://pandas.pydata.org/pandas-docs/stable/user_guide/indexing.html#returning-a-view-versus-a-copy\n",
      "  cdf['GDP_IND_1'] = cdf['GDP_IND'].shift(-1)\n",
      "/tmp/ipykernel_20/2290664196.py:12: SettingWithCopyWarning: \n",
      "A value is trying to be set on a copy of a slice from a DataFrame.\n",
      "Try using .loc[row_indexer,col_indexer] = value instead\n",
      "\n",
      "See the caveats in the documentation: https://pandas.pydata.org/pandas-docs/stable/user_guide/indexing.html#returning-a-view-versus-a-copy\n",
      "  cdf['GDP_IND_Increase'] = (cdf['GDP_IND_1'] > cdf['GDP_IND']).astype(int)\n",
      "/opt/conda/lib/python3.10/site-packages/sklearn/metrics/_classification.py:1344: UndefinedMetricWarning: Precision and F-score are ill-defined and being set to 0.0 in labels with no predicted samples. Use `zero_division` parameter to control this behavior.\n",
      "  _warn_prf(average, modifier, msg_start, len(result))\n",
      "/opt/conda/lib/python3.10/site-packages/sklearn/metrics/_classification.py:1344: UndefinedMetricWarning: Precision and F-score are ill-defined and being set to 0.0 in labels with no predicted samples. Use `zero_division` parameter to control this behavior.\n",
      "  _warn_prf(average, modifier, msg_start, len(result))\n",
      "/opt/conda/lib/python3.10/site-packages/sklearn/metrics/_classification.py:1344: UndefinedMetricWarning: Precision and F-score are ill-defined and being set to 0.0 in labels with no predicted samples. Use `zero_division` parameter to control this behavior.\n",
      "  _warn_prf(average, modifier, msg_start, len(result))\n",
      "/opt/conda/lib/python3.10/site-packages/sklearn/base.py:439: UserWarning: X does not have valid feature names, but LogisticRegression was fitted with feature names\n",
      "  warnings.warn(\n",
      "/opt/conda/lib/python3.10/site-packages/sklearn/base.py:439: UserWarning: X does not have valid feature names, but LogisticRegression was fitted with feature names\n",
      "  warnings.warn(\n"
     ]
    },
    {
     "name": "stdout",
     "output_type": "stream",
     "text": [
      "              precision    recall  f1-score   support\n",
      "\n",
      "           0       0.67      1.00      0.80         4\n",
      "           1       0.00      0.00      0.00         2\n",
      "\n",
      "    accuracy                           0.67         6\n",
      "   macro avg       0.33      0.50      0.40         6\n",
      "weighted avg       0.44      0.67      0.53         6\n",
      "\n",
      "GDP for the industrial sector is predicted to decrease in 2025.\n"
     ]
    },
    {
     "data": {
      "image/png": "[encoded data removed]",
      "text/plain": [
       "<Figure size 600x400 with 1 Axes>"
      ]
     },
     "metadata": {},
     "output_type": "display_data"
    }
   ],
   "source": [
    "import pandas as pd\n",
    "import numpy as np\n",
    "import matplotlib.pyplot as plt\n",
    "from sklearn.model_selection import train_test_split\n",
    "from sklearn.linear_model import LogisticRegression\n",
    "from sklearn.metrics import classification_report\n",
    "\n",
    "\n",
    "\n",
    "# Data Preprocessing\n",
    "cdf['GDP_IND_1'] = cdf['GDP_IND'].shift(-1)\n",
    "cdf['GDP_IND_Increase'] = (cdf['GDP_IND_1'] > cdf['GDP_IND']).astype(int)\n",
    "\n",
    "# Select features and target variable\n",
    "X = cdf[['Years']]\n",
    "y = cdf['GDP_IND_Increase']\n",
    "\n",
    "# Train-test split\n",
    "X_train, X_test, y_train, y_test = train_test_split(X, y, test_size=0.2, random_state=42)\n",
    "\n",
    "# Logistic Regression Model\n",
    "model = LogisticRegression()\n",
    "model.fit(X_train, y_train)\n",
    "\n",
    "# Model Evaluation\n",
    "y_pred = model.predict(X_test)\n",
    "print(classification_report(y_test, y_pred))\n",
    "\n",
    "# Predict for a specific year\n",
    "year_2025 = 2025\n",
    "predicted_increase = model.predict([[year_2025]])[0]\n",
    "if predicted_increase == 1:\n",
    "    print(f\"GDP for the industrial sector is predicted to increase in {year_2025}.\")\n",
    "else:\n",
    "    print(f\"GDP for the industrial sector is predicted to decrease in {year_2025}.\")\n",
    "\n",
    "# Plot the decision boundary\n",
    "x_min, x_max = X['Years'].min() - 1, X['Years'].max() + 1\n",
    "xx = np.arange(x_min, x_max, 1)\n",
    "yy = model.predict(xx.reshape(-1, 1))\n",
    "plt.figure(1, figsize=(6, 4))\n",
    "plt.clf()\n",
    "plt.plot(X['Years'], y, 'ro', markersize=5)\n",
    "plt.plot(xx, yy, 'k', linewidth=2)\n",
    "plt.xlabel('Years')\n",
    "plt.ylabel('GDP_IND_Increase')\n",
    "plt.title('Logistic Regression Decision Boundary')\n",
    "plt.show()\n"
   ]
  },
  {
   "cell_type": "markdown",
   "id": "a9939e51",
   "metadata": {
    "papermill": {
     "duration": 0.01772,
     "end_time": "2023-10-31T08:28:31.099292",
     "exception": false,
     "start_time": "2023-10-31T08:28:31.081572",
     "status": "completed"
    },
    "tags": []
   },
   "source": [
    "**DECISION TREE**"
   ]
  },
  {
   "cell_type": "code",
   "execution_count": 16,
   "id": "1b259401",
   "metadata": {
    "execution": {
     "iopub.execute_input": "2023-10-31T08:28:31.134037Z",
     "iopub.status.busy": "2023-10-31T08:28:31.133486Z",
     "iopub.status.idle": "2023-10-31T08:28:32.126490Z",
     "shell.execute_reply": "2023-10-31T08:28:32.125239Z"
    },
    "papermill": {
     "duration": 1.013523,
     "end_time": "2023-10-31T08:28:32.129833",
     "exception": false,
     "start_time": "2023-10-31T08:28:31.116310",
     "status": "completed"
    },
    "tags": []
   },
   "outputs": [
    {
     "name": "stderr",
     "output_type": "stream",
     "text": [
      "/tmp/ipykernel_20/892259858.py:11: SettingWithCopyWarning: \n",
      "A value is trying to be set on a copy of a slice from a DataFrame.\n",
      "Try using .loc[row_indexer,col_indexer] = value instead\n",
      "\n",
      "See the caveats in the documentation: https://pandas.pydata.org/pandas-docs/stable/user_guide/indexing.html#returning-a-view-versus-a-copy\n",
      "  cdf['GDP_IND_1'] = cdf['GDP_IND'].shift(-1)\n",
      "/tmp/ipykernel_20/892259858.py:12: SettingWithCopyWarning: \n",
      "A value is trying to be set on a copy of a slice from a DataFrame.\n",
      "Try using .loc[row_indexer,col_indexer] = value instead\n",
      "\n",
      "See the caveats in the documentation: https://pandas.pydata.org/pandas-docs/stable/user_guide/indexing.html#returning-a-view-versus-a-copy\n",
      "  cdf['GDP_IND_Increase'] = (cdf['GDP_IND_1'] > cdf['GDP_IND']).astype(int)\n"
     ]
    },
    {
     "name": "stdout",
     "output_type": "stream",
     "text": [
      "              precision    recall  f1-score   support\n",
      "\n",
      "           0       0.33      0.25      0.29         4\n",
      "           1       0.00      0.00      0.00         2\n",
      "\n",
      "    accuracy                           0.17         6\n",
      "   macro avg       0.17      0.12      0.14         6\n",
      "weighted avg       0.22      0.17      0.19         6\n",
      "\n"
     ]
    },
    {
     "data": {
      "image/png": "[encoded data removed]",
      "text/plain": [
       "<Figure size 1200x800 with 1 Axes>"
      ]
     },
     "metadata": {},
     "output_type": "display_data"
    }
   ],
   "source": [
    "import pandas as pd\n",
    "from sklearn.model_selection import train_test_split\n",
    "from sklearn.tree import DecisionTreeClassifier\n",
    "from sklearn.metrics import classification_report\n",
    "from sklearn.tree import plot_tree\n",
    "import matplotlib.pyplot as plt\n",
    "\n",
    "# Load your dataset into a DataFrame (assuming it's named cdf)\n",
    "\n",
    "# Data Preprocessing\n",
    "cdf['GDP_IND_1'] = cdf['GDP_IND'].shift(-1)\n",
    "cdf['GDP_IND_Increase'] = (cdf['GDP_IND_1'] > cdf['GDP_IND']).astype(int)\n",
    "\n",
    "# Select features and target variable\n",
    "X = cdf[['Years']]\n",
    "y = cdf['GDP_IND_Increase']\n",
    "\n",
    "# Train-test split\n",
    "X_train, X_test, y_train, y_test = train_test_split(X, y, test_size=0.2, random_state=42)\n",
    "\n",
    "# Decision Tree Model\n",
    "model = DecisionTreeClassifier(random_state=42)\n",
    "model.fit(X_train, y_train)\n",
    "\n",
    "# Model Evaluation\n",
    "y_pred = model.predict(X_test)\n",
    "print(classification_report(y_test, y_pred))\n",
    "\n",
    "# Plot the decision tree\n",
    "plt.figure(figsize=(12, 8))\n",
    "plot_tree(model, filled=True, feature_names=X.columns, class_names=['Decrease', 'Increase'])\n",
    "plt.title(\"Decision Tree for GDP_IND Increase Prediction\")\n",
    "plt.show()\n"
   ]
  },
  {
   "cell_type": "markdown",
   "id": "70f240c5",
   "metadata": {
    "papermill": {
     "duration": 0.018523,
     "end_time": "2023-10-31T08:28:32.166915",
     "exception": false,
     "start_time": "2023-10-31T08:28:32.148392",
     "status": "completed"
    },
    "tags": []
   },
   "source": [
    "**Random Forest**"
   ]
  },
  {
   "cell_type": "code",
   "execution_count": 17,
   "id": "73808005",
   "metadata": {
    "execution": {
     "iopub.execute_input": "2023-10-31T08:28:32.206127Z",
     "iopub.status.busy": "2023-10-31T08:28:32.205693Z",
     "iopub.status.idle": "2023-10-31T08:28:32.599602Z",
     "shell.execute_reply": "2023-10-31T08:28:32.598124Z"
    },
    "papermill": {
     "duration": 0.416471,
     "end_time": "2023-10-31T08:28:32.602684",
     "exception": false,
     "start_time": "2023-10-31T08:28:32.186213",
     "status": "completed"
    },
    "tags": []
   },
   "outputs": [
    {
     "name": "stderr",
     "output_type": "stream",
     "text": [
      "/tmp/ipykernel_20/653634532.py:9: SettingWithCopyWarning: \n",
      "A value is trying to be set on a copy of a slice from a DataFrame.\n",
      "Try using .loc[row_indexer,col_indexer] = value instead\n",
      "\n",
      "See the caveats in the documentation: https://pandas.pydata.org/pandas-docs/stable/user_guide/indexing.html#returning-a-view-versus-a-copy\n",
      "  cdf['GDP_IND_1'] = cdf['GDP_IND'].shift(-1)\n",
      "/tmp/ipykernel_20/653634532.py:10: SettingWithCopyWarning: \n",
      "A value is trying to be set on a copy of a slice from a DataFrame.\n",
      "Try using .loc[row_indexer,col_indexer] = value instead\n",
      "\n",
      "See the caveats in the documentation: https://pandas.pydata.org/pandas-docs/stable/user_guide/indexing.html#returning-a-view-versus-a-copy\n",
      "  cdf['GDP_IND_Increase'] = (cdf['GDP_IND_1'] > cdf['GDP_IND']).astype(int)\n"
     ]
    },
    {
     "name": "stdout",
     "output_type": "stream",
     "text": [
      "              precision    recall  f1-score   support\n",
      "\n",
      "           0       0.33      0.25      0.29         4\n",
      "           1       0.00      0.00      0.00         2\n",
      "\n",
      "    accuracy                           0.17         6\n",
      "   macro avg       0.17      0.12      0.14         6\n",
      "weighted avg       0.22      0.17      0.19         6\n",
      "\n",
      "GDP for the industrial sector is predicted to decrease in 2025.\n"
     ]
    },
    {
     "name": "stderr",
     "output_type": "stream",
     "text": [
      "/opt/conda/lib/python3.10/site-packages/sklearn/base.py:439: UserWarning: X does not have valid feature names, but RandomForestClassifier was fitted with feature names\n",
      "  warnings.warn(\n"
     ]
    }
   ],
   "source": [
    "import pandas as pd\n",
    "from sklearn.model_selection import train_test_split\n",
    "from sklearn.ensemble import RandomForestClassifier\n",
    "from sklearn.metrics import classification_report\n",
    "\n",
    "# Load your dataset into a DataFrame (assuming it's named cdf)\n",
    "\n",
    "# Data Preprocessing\n",
    "cdf['GDP_IND_1'] = cdf['GDP_IND'].shift(-1)\n",
    "cdf['GDP_IND_Increase'] = (cdf['GDP_IND_1'] > cdf['GDP_IND']).astype(int)\n",
    "\n",
    "# Select features and target variable\n",
    "X = cdf[['Years']]\n",
    "y = cdf['GDP_IND_Increase']\n",
    "\n",
    "# Train-test split\n",
    "X_train, X_test, y_train, y_test = train_test_split(X, y, test_size=0.2, random_state=42)\n",
    "\n",
    "# Random Forest Model\n",
    "model = RandomForestClassifier(n_estimators=100, random_state=42)\n",
    "model.fit(X_train, y_train)\n",
    "\n",
    "# Model Evaluation\n",
    "y_pred = model.predict(X_test)\n",
    "print(classification_report(y_test, y_pred))\n",
    "\n",
    "# Predict for a specific year\n",
    "year_2025 = 2025\n",
    "predicted_increase = model.predict([[year_2025]])[0]\n",
    "if predicted_increase == 1:\n",
    "    print(f\"GDP for the industrial sector is predicted to increase in {year_2025}.\")\n",
    "else:\n",
    "    print(f\"GDP for the industrial sector is predicted to decrease in {year_2025}.\")\n"
   ]
  },
  {
   "cell_type": "markdown",
   "id": "cb3b9282",
   "metadata": {
    "papermill": {
     "duration": 0.017547,
     "end_time": "2023-10-31T08:28:32.638735",
     "exception": false,
     "start_time": "2023-10-31T08:28:32.621188",
     "status": "completed"
    },
    "tags": []
   },
   "source": [
    "**K-NN**"
   ]
  },
  {
   "cell_type": "code",
   "execution_count": 18,
   "id": "bd6235f5",
   "metadata": {
    "execution": {
     "iopub.execute_input": "2023-10-31T08:28:32.742447Z",
     "iopub.status.busy": "2023-10-31T08:28:32.742051Z",
     "iopub.status.idle": "2023-10-31T08:28:33.156162Z",
     "shell.execute_reply": "2023-10-31T08:28:33.154749Z"
    },
    "papermill": {
     "duration": 0.437448,
     "end_time": "2023-10-31T08:28:33.159061",
     "exception": false,
     "start_time": "2023-10-31T08:28:32.721613",
     "status": "completed"
    },
    "tags": []
   },
   "outputs": [
    {
     "name": "stdout",
     "output_type": "stream",
     "text": [
      "              precision    recall  f1-score   support\n",
      "\n",
      "           0       0.67      0.50      0.57         4\n",
      "           1       0.33      0.50      0.40         2\n",
      "\n",
      "    accuracy                           0.50         6\n",
      "   macro avg       0.50      0.50      0.49         6\n",
      "weighted avg       0.56      0.50      0.51         6\n",
      "\n",
      "GDP for the industrial sector is predicted to decrease in 2025.\n"
     ]
    },
    {
     "name": "stderr",
     "output_type": "stream",
     "text": [
      "/tmp/ipykernel_20/4069861160.py:10: SettingWithCopyWarning: \n",
      "A value is trying to be set on a copy of a slice from a DataFrame.\n",
      "Try using .loc[row_indexer,col_indexer] = value instead\n",
      "\n",
      "See the caveats in the documentation: https://pandas.pydata.org/pandas-docs/stable/user_guide/indexing.html#returning-a-view-versus-a-copy\n",
      "  cdf['GDP_IND_1'] = cdf['GDP_IND'].shift(-1)\n",
      "/tmp/ipykernel_20/4069861160.py:11: SettingWithCopyWarning: \n",
      "A value is trying to be set on a copy of a slice from a DataFrame.\n",
      "Try using .loc[row_indexer,col_indexer] = value instead\n",
      "\n",
      "See the caveats in the documentation: https://pandas.pydata.org/pandas-docs/stable/user_guide/indexing.html#returning-a-view-versus-a-copy\n",
      "  cdf['GDP_IND_Increase'] = (cdf['GDP_IND_1'] > cdf['GDP_IND']).astype(int)\n",
      "/opt/conda/lib/python3.10/site-packages/sklearn/base.py:439: UserWarning: X does not have valid feature names, but KNeighborsClassifier was fitted with feature names\n",
      "  warnings.warn(\n"
     ]
    },
    {
     "data": {
      "image/png": "[encoded data removed]",
      "text/plain": [
       "<Figure size 1000x600 with 1 Axes>"
      ]
     },
     "metadata": {},
     "output_type": "display_data"
    }
   ],
   "source": [
    "import pandas as pd\n",
    "import matplotlib.pyplot as plt\n",
    "from sklearn.model_selection import train_test_split\n",
    "from sklearn.neighbors import KNeighborsClassifier\n",
    "from sklearn.metrics import classification_report\n",
    "\n",
    "# Load your dataset into a DataFrame (assuming it's named cdf)\n",
    "\n",
    "# Data Preprocessing\n",
    "cdf['GDP_IND_1'] = cdf['GDP_IND'].shift(-1)\n",
    "cdf['GDP_IND_Increase'] = (cdf['GDP_IND_1'] > cdf['GDP_IND']).astype(int)\n",
    "\n",
    "# Select features and target variable\n",
    "X = cdf[['Years']]\n",
    "y = cdf['GDP_IND_Increase']\n",
    "\n",
    "# Train-test split\n",
    "X_train, X_test, y_train, y_test = train_test_split(X, y, test_size=0.2, random_state=42)\n",
    "\n",
    "# K-Nearest Neighbors Model\n",
    "k = 3  # You can adjust the number of neighbors (k) as needed\n",
    "model = KNeighborsClassifier(n_neighbors=k)\n",
    "model.fit(X_train, y_train)\n",
    "\n",
    "# Model Evaluation\n",
    "y_pred = model.predict(X_test)\n",
    "print(classification_report(y_test, y_pred))\n",
    "\n",
    "# Predict for a specific year\n",
    "year_2025 = 2025\n",
    "predicted_increase = model.predict([[year_2025]])[0]\n",
    "if predicted_increase == 1:\n",
    "    print(f\"GDP for the industrial sector is predicted to increase in {year_2025}.\")\n",
    "else:\n",
    "    print(f\"GDP for the industrial sector is predicted to decrease in {year_2025}.\")\n",
    "\n",
    "# Plot the graph\n",
    "plt.figure(figsize=(10, 6))\n",
    "plt.scatter(X_train, y_train, c='b', label='Training Data')\n",
    "plt.scatter(X_test, y_test, c='g', label='Testing Data')\n",
    "plt.xlabel('Year')\n",
    "plt.ylabel('GDP_IND_Increase')\n",
    "plt.title('K-Nearest Neighbors for GDP_IND_Increase')\n",
    "plt.legend()\n",
    "plt.grid(True)\n",
    "plt.show()\n"
   ]
  },
  {
   "cell_type": "markdown",
   "id": "250413f0",
   "metadata": {
    "papermill": {
     "duration": 0.019455,
     "end_time": "2023-10-31T08:28:33.199426",
     "exception": false,
     "start_time": "2023-10-31T08:28:33.179971",
     "status": "completed"
    },
    "tags": []
   },
   "source": [
    "**SVM**"
   ]
  },
  {
   "cell_type": "code",
   "execution_count": 19,
   "id": "6f5630b8",
   "metadata": {
    "execution": {
     "iopub.execute_input": "2023-10-31T08:28:33.240198Z",
     "iopub.status.busy": "2023-10-31T08:28:33.239798Z",
     "iopub.status.idle": "2023-10-31T08:28:33.269016Z",
     "shell.execute_reply": "2023-10-31T08:28:33.266724Z"
    },
    "papermill": {
     "duration": 0.052634,
     "end_time": "2023-10-31T08:28:33.271424",
     "exception": false,
     "start_time": "2023-10-31T08:28:33.218790",
     "status": "completed"
    },
    "tags": []
   },
   "outputs": [
    {
     "name": "stdout",
     "output_type": "stream",
     "text": [
      "              precision    recall  f1-score   support\n",
      "\n",
      "           0       0.67      1.00      0.80         4\n",
      "           1       0.00      0.00      0.00         2\n",
      "\n",
      "    accuracy                           0.67         6\n",
      "   macro avg       0.33      0.50      0.40         6\n",
      "weighted avg       0.44      0.67      0.53         6\n",
      "\n",
      "GDP for the industrial sector is predicted to decrease in 2025.\n"
     ]
    },
    {
     "name": "stderr",
     "output_type": "stream",
     "text": [
      "/tmp/ipykernel_20/216600916.py:9: SettingWithCopyWarning: \n",
      "A value is trying to be set on a copy of a slice from a DataFrame.\n",
      "Try using .loc[row_indexer,col_indexer] = value instead\n",
      "\n",
      "See the caveats in the documentation: https://pandas.pydata.org/pandas-docs/stable/user_guide/indexing.html#returning-a-view-versus-a-copy\n",
      "  cdf['GDP_IND_1'] = cdf['GDP_IND'].shift(-1)\n",
      "/tmp/ipykernel_20/216600916.py:10: SettingWithCopyWarning: \n",
      "A value is trying to be set on a copy of a slice from a DataFrame.\n",
      "Try using .loc[row_indexer,col_indexer] = value instead\n",
      "\n",
      "See the caveats in the documentation: https://pandas.pydata.org/pandas-docs/stable/user_guide/indexing.html#returning-a-view-versus-a-copy\n",
      "  cdf['GDP_IND_Increase'] = (cdf['GDP_IND_1'] > cdf['GDP_IND']).astype(int)\n",
      "/opt/conda/lib/python3.10/site-packages/sklearn/metrics/_classification.py:1344: UndefinedMetricWarning: Precision and F-score are ill-defined and being set to 0.0 in labels with no predicted samples. Use `zero_division` parameter to control this behavior.\n",
      "  _warn_prf(average, modifier, msg_start, len(result))\n",
      "/opt/conda/lib/python3.10/site-packages/sklearn/metrics/_classification.py:1344: UndefinedMetricWarning: Precision and F-score are ill-defined and being set to 0.0 in labels with no predicted samples. Use `zero_division` parameter to control this behavior.\n",
      "  _warn_prf(average, modifier, msg_start, len(result))\n",
      "/opt/conda/lib/python3.10/site-packages/sklearn/metrics/_classification.py:1344: UndefinedMetricWarning: Precision and F-score are ill-defined and being set to 0.0 in labels with no predicted samples. Use `zero_division` parameter to control this behavior.\n",
      "  _warn_prf(average, modifier, msg_start, len(result))\n",
      "/opt/conda/lib/python3.10/site-packages/sklearn/base.py:439: UserWarning: X does not have valid feature names, but SVC was fitted with feature names\n",
      "  warnings.warn(\n"
     ]
    }
   ],
   "source": [
    "import pandas as pd\n",
    "from sklearn.model_selection import train_test_split\n",
    "from sklearn.svm import SVC\n",
    "from sklearn.metrics import classification_report\n",
    "\n",
    "# Load your dataset into a DataFrame (assuming it's named cdf)\n",
    "\n",
    "# Data Preprocessing\n",
    "cdf['GDP_IND_1'] = cdf['GDP_IND'].shift(-1)\n",
    "cdf['GDP_IND_Increase'] = (cdf['GDP_IND_1'] > cdf['GDP_IND']).astype(int)\n",
    "\n",
    "# Select features and target variable\n",
    "X = cdf[['Years']]\n",
    "y = cdf['GDP_IND_Increase']\n",
    "\n",
    "# Train-test split\n",
    "X_train, X_test, y_train, y_test = train_test_split(X, y, test_size=0.2, random_state=42)\n",
    "\n",
    "# SVM Model\n",
    "model = SVC(kernel='linear', C=1.0)\n",
    "model.fit(X_train, y_train)\n",
    "\n",
    "# Model Evaluation\n",
    "y_pred = model.predict(X_test)\n",
    "print(classification_report(y_test, y_pred))\n",
    "\n",
    "# Predict for a specific year\n",
    "year_2025 = 2025\n",
    "predicted_increase = model.predict([[year_2025]])[0]\n",
    "if predicted_increase == 1:\n",
    "    print(f\"GDP for the industrial sector is predicted to increase in {year_2025}.\")\n",
    "else:\n",
    "    print(f\"GDP for the industrial sector is predicted to decrease in {year_2025}.\")\n"
   ]
  },
  {
   "cell_type": "markdown",
   "id": "afb09d84",
   "metadata": {
    "papermill": {
     "duration": 0.01913,
     "end_time": "2023-10-31T08:28:33.310401",
     "exception": false,
     "start_time": "2023-10-31T08:28:33.291271",
     "status": "completed"
    },
    "tags": []
   },
   "source": [
    "**ANN**"
   ]
  },
  {
   "cell_type": "code",
   "execution_count": 20,
   "id": "ef1445bb",
   "metadata": {
    "execution": {
     "iopub.execute_input": "2023-10-31T08:28:33.352631Z",
     "iopub.status.busy": "2023-10-31T08:28:33.352195Z",
     "iopub.status.idle": "2023-10-31T08:28:46.574342Z",
     "shell.execute_reply": "2023-10-31T08:28:46.572731Z"
    },
    "papermill": {
     "duration": 13.246898,
     "end_time": "2023-10-31T08:28:46.577252",
     "exception": false,
     "start_time": "2023-10-31T08:28:33.330354",
     "status": "completed"
    },
    "tags": []
   },
   "outputs": [
    {
     "name": "stderr",
     "output_type": "stream",
     "text": [
      "/tmp/ipykernel_20/2834929547.py:10: SettingWithCopyWarning: \n",
      "A value is trying to be set on a copy of a slice from a DataFrame.\n",
      "Try using .loc[row_indexer,col_indexer] = value instead\n",
      "\n",
      "See the caveats in the documentation: https://pandas.pydata.org/pandas-docs/stable/user_guide/indexing.html#returning-a-view-versus-a-copy\n",
      "  cdf['GDP_IND_1'] = cdf['GDP_IND'].shift(-1)\n",
      "/tmp/ipykernel_20/2834929547.py:11: SettingWithCopyWarning: \n",
      "A value is trying to be set on a copy of a slice from a DataFrame.\n",
      "Try using .loc[row_indexer,col_indexer] = value instead\n",
      "\n",
      "See the caveats in the documentation: https://pandas.pydata.org/pandas-docs/stable/user_guide/indexing.html#returning-a-view-versus-a-copy\n",
      "  cdf['GDP_IND_Increase'] = (cdf['GDP_IND_1'] > cdf['GDP_IND']).astype(int)\n"
     ]
    },
    {
     "name": "stdout",
     "output_type": "stream",
     "text": [
      "1/1 [==============================] - 0s 110ms/step\n",
      "              precision    recall  f1-score   support\n",
      "\n",
      "           0       0.67      1.00      0.80         4\n",
      "           1       0.00      0.00      0.00         2\n",
      "\n",
      "    accuracy                           0.67         6\n",
      "   macro avg       0.33      0.50      0.40         6\n",
      "weighted avg       0.44      0.67      0.53         6\n",
      "\n",
      "1/1 [==============================] - 0s 22ms/step\n",
      "GDP for the industrial sector is predicted to decrease in 2025.\n"
     ]
    },
    {
     "name": "stderr",
     "output_type": "stream",
     "text": [
      "/opt/conda/lib/python3.10/site-packages/sklearn/metrics/_classification.py:1344: UndefinedMetricWarning: Precision and F-score are ill-defined and being set to 0.0 in labels with no predicted samples. Use `zero_division` parameter to control this behavior.\n",
      "  _warn_prf(average, modifier, msg_start, len(result))\n",
      "/opt/conda/lib/python3.10/site-packages/sklearn/metrics/_classification.py:1344: UndefinedMetricWarning: Precision and F-score are ill-defined and being set to 0.0 in labels with no predicted samples. Use `zero_division` parameter to control this behavior.\n",
      "  _warn_prf(average, modifier, msg_start, len(result))\n",
      "/opt/conda/lib/python3.10/site-packages/sklearn/metrics/_classification.py:1344: UndefinedMetricWarning: Precision and F-score are ill-defined and being set to 0.0 in labels with no predicted samples. Use `zero_division` parameter to control this behavior.\n",
      "  _warn_prf(average, modifier, msg_start, len(result))\n",
      "/opt/conda/lib/python3.10/site-packages/sklearn/base.py:439: UserWarning: X does not have valid feature names, but StandardScaler was fitted with feature names\n",
      "  warnings.warn(\n"
     ]
    }
   ],
   "source": [
    "import pandas as pd\n",
    "from sklearn.model_selection import train_test_split\n",
    "from sklearn.preprocessing import StandardScaler\n",
    "from keras.models import Sequential\n",
    "from keras.layers import Dense\n",
    "from sklearn.metrics import classification_report\n",
    "\n",
    "# Load your dataset into a DataFrame (assuming it's named cdf)\n",
    "# Data Preprocessing\n",
    "cdf['GDP_IND_1'] = cdf['GDP_IND'].shift(-1)\n",
    "cdf['GDP_IND_Increase'] = (cdf['GDP_IND_1'] > cdf['GDP_IND']).astype(int)\n",
    "\n",
    "# Select features and target variable\n",
    "X = cdf[['Years']]\n",
    "y = cdf['GDP_IND_Increase']\n",
    "\n",
    "# Train-test split\n",
    "X_train, X_test, y_train, y_test = train_test_split(X, y, test_size=0.2, random_state=42)\n",
    "\n",
    "# Standardize the data (important for ANNs)\n",
    "scaler = StandardScaler()\n",
    "X_train = scaler.fit_transform(X_train)\n",
    "X_test = scaler.transform(X_test)\n",
    "\n",
    "# Build an ANN model\n",
    "model = Sequential()\n",
    "model.add(Dense(16, activation='relu', input_dim=1))\n",
    "model.add(Dense(8, activation='relu'))\n",
    "model.add(Dense(1, activation='sigmoid'))\n",
    "\n",
    "# Compile the model\n",
    "model.compile(optimizer='adam', loss='binary_crossentropy', metrics=['accuracy'])\n",
    "\n",
    "# Train the model\n",
    "model.fit(X_train, y_train, epochs=100, batch_size=32, verbose=0)\n",
    "\n",
    "# Model Evaluation\n",
    "y_pred = (model.predict(X_test) > 0.5).astype(int)\n",
    "print(classification_report(y_test, y_pred))\n",
    "\n",
    "# Predict for a specific year\n",
    "year_2025 = 2025\n",
    "year_2025_scaled = scaler.transform([[year_2025]])\n",
    "predicted_increase = (model.predict(year_2025_scaled) > 0.5).astype(int)\n",
    "if predicted_increase == 1:\n",
    "    print(f\"GDP for the industrial sector is predicted to increase in {year_2025}.\")\n",
    "else:\n",
    "    print(f\"GDP for the industrial sector is predicted to decrease in {year_2025}.\")\n"
   ]
  },
  {
   "cell_type": "markdown",
   "id": "2b4d1d3b",
   "metadata": {
    "papermill": {
     "duration": 0.020002,
     "end_time": "2023-10-31T08:28:46.618558",
     "exception": false,
     "start_time": "2023-10-31T08:28:46.598556",
     "status": "completed"
    },
    "tags": []
   },
   "source": [
    "**K-Means**"
   ]
  },
  {
   "cell_type": "code",
   "execution_count": 21,
   "id": "5abe2cc3",
   "metadata": {
    "execution": {
     "iopub.execute_input": "2023-10-31T08:28:46.662148Z",
     "iopub.status.busy": "2023-10-31T08:28:46.661429Z",
     "iopub.status.idle": "2023-10-31T08:28:48.468343Z",
     "shell.execute_reply": "2023-10-31T08:28:48.466847Z"
    },
    "papermill": {
     "duration": 1.830734,
     "end_time": "2023-10-31T08:28:48.470531",
     "exception": true,
     "start_time": "2023-10-31T08:28:46.639797",
     "status": "failed"
    },
    "tags": []
   },
   "outputs": [
    {
     "name": "stderr",
     "output_type": "stream",
     "text": [
      "/opt/conda/lib/python3.10/site-packages/sklearn/cluster/_kmeans.py:870: FutureWarning: The default value of `n_init` will change from 10 to 'auto' in 1.4. Set the value of `n_init` explicitly to suppress the warning\n",
      "  warnings.warn(\n"
     ]
    },
    {
     "data": {
      "image/png": "[encoded data removed]",
      "text/plain": [
       "<Figure size 640x480 with 1 Axes>"
      ]
     },
     "metadata": {},
     "output_type": "display_data"
    },
    {
     "ename": "ValueError",
     "evalue": "operands could not be broadcast together with shapes (3,3) (21,) (3,3) ",
     "output_type": "error",
     "traceback": [
      "\u001b[0;31m---------------------------------------------------------------------------\u001b[0m",
      "\u001b[0;31mValueError\u001b[0m                                Traceback (most recent call last)",
      "Cell \u001b[0;32mIn[21], line 37\u001b[0m\n\u001b[1;32m     33\u001b[0m plt\u001b[38;5;241m.\u001b[39mshow()\n\u001b[1;32m     35\u001b[0m \u001b[38;5;66;03m# Step 8: Cluster Interpretation and Analysis\u001b[39;00m\n\u001b[1;32m     36\u001b[0m \u001b[38;5;66;03m# Cluster Centers\u001b[39;00m\n\u001b[0;32m---> 37\u001b[0m cluster_centers \u001b[38;5;241m=\u001b[39m \u001b[43mscaler\u001b[49m\u001b[38;5;241;43m.\u001b[39;49m\u001b[43minverse_transform\u001b[49m\u001b[43m(\u001b[49m\u001b[43mkmeans\u001b[49m\u001b[38;5;241;43m.\u001b[39;49m\u001b[43mcluster_centers_\u001b[49m\u001b[43m)\u001b[49m\n\u001b[1;32m     38\u001b[0m cluster_centers_df \u001b[38;5;241m=\u001b[39m pd\u001b[38;5;241m.\u001b[39mDataFrame(cluster_centers, columns\u001b[38;5;241m=\u001b[39mselected_features\u001b[38;5;241m.\u001b[39mcolumns)\n\u001b[1;32m     39\u001b[0m \u001b[38;5;28mprint\u001b[39m(\u001b[38;5;124m\"\u001b[39m\u001b[38;5;124mCluster Centers:\u001b[39m\u001b[38;5;124m\"\u001b[39m)\n",
      "File \u001b[0;32m/opt/conda/lib/python3.10/site-packages/sklearn/preprocessing/_data.py:1052\u001b[0m, in \u001b[0;36mStandardScaler.inverse_transform\u001b[0;34m(self, X, copy)\u001b[0m\n\u001b[1;32m   1050\u001b[0m \u001b[38;5;28;01melse\u001b[39;00m:\n\u001b[1;32m   1051\u001b[0m     \u001b[38;5;28;01mif\u001b[39;00m \u001b[38;5;28mself\u001b[39m\u001b[38;5;241m.\u001b[39mwith_std:\n\u001b[0;32m-> 1052\u001b[0m         X \u001b[38;5;241m*\u001b[39m\u001b[38;5;241m=\u001b[39m \u001b[38;5;28mself\u001b[39m\u001b[38;5;241m.\u001b[39mscale_\n\u001b[1;32m   1053\u001b[0m     \u001b[38;5;28;01mif\u001b[39;00m \u001b[38;5;28mself\u001b[39m\u001b[38;5;241m.\u001b[39mwith_mean:\n\u001b[1;32m   1054\u001b[0m         X \u001b[38;5;241m+\u001b[39m\u001b[38;5;241m=\u001b[39m \u001b[38;5;28mself\u001b[39m\u001b[38;5;241m.\u001b[39mmean_\n",
      "\u001b[0;31mValueError\u001b[0m: operands could not be broadcast together with shapes (3,3) (21,) (3,3) "
     ]
    }
   ],
   "source": [
    "import pandas as pd\n",
    "from sklearn.cluster import KMeans\n",
    "from sklearn.preprocessing import StandardScaler\n",
    "import matplotlib.pyplot as plt\n",
    "\n",
    "\n",
    "\n",
    "# Step 1: Remove irrelevant columns\n",
    "cdf = cdf.drop(columns=['Years'])\n",
    "\n",
    "# Step 2: Handle missing values (you can choose a suitable method)\n",
    "cdf = cdf.dropna()\n",
    "\n",
    "# Step 3: Standardize your data\n",
    "scaler = StandardScaler()\n",
    "scaled_data = scaler.fit_transform(cdf)\n",
    "\n",
    "# Step 4: Choose features\n",
    "selected_features = cdf[['GDP_IND', 'GDP_AGR', 'GDP_PP_EMP']]\n",
    "\n",
    "# Step 5: Determine the number of clusters (K)\n",
    "# For example, let's say you want to use 3 clusters\n",
    "kmeans = KMeans(n_clusters=3)\n",
    "kmeans.fit(selected_features)\n",
    "\n",
    "# Step 6: Add cluster labels to your DataFrame\n",
    "cdf['Cluster'] = kmeans.labels_\n",
    "\n",
    "# Step 7: Visualize the clusters\n",
    "plt.scatter(cdf['GDP_IND'], cdf['GDP_AGR'], c=cdf['Cluster'], cmap='rainbow')\n",
    "plt.xlabel('GDP_IND')\n",
    "plt.ylabel('GDP_AGR')\n",
    "plt.show()\n",
    "\n",
    "# Step 8: Cluster Interpretation and Analysis\n",
    "# Cluster Centers\n",
    "cluster_centers = scaler.inverse_transform(kmeans.cluster_centers_)\n",
    "cluster_centers_df = pd.DataFrame(cluster_centers, columns=selected_features.columns)\n",
    "print(\"Cluster Centers:\")\n",
    "print(cluster_centers_df)\n",
    "\n",
    "# Cluster Size\n",
    "cluster_sizes = cdf['Cluster'].value_counts().sort_index()\n",
    "print(\"Cluster Sizes:\")\n",
    "print(cluster_sizes)\n",
    "\n",
    "# Further Analysis:\n",
    "# - Visual Inspection\n",
    "# - Business Insights\n",
    "# - Validation Metrics (if available)\n",
    "\n",
    "# For example, you can plot the cluster centers for a more detailed analysis\n",
    "cluster_centers_df.plot(kind='bar', title='Cluster Centers')\n",
    "plt.xlabel('Cluster')\n",
    "plt.ylabel('Feature Value')\n",
    "plt.show()\n"
   ]
  },
  {
   "cell_type": "markdown",
   "id": "acb88866",
   "metadata": {
    "papermill": {
     "duration": null,
     "end_time": null,
     "exception": null,
     "start_time": null,
     "status": "pending"
    },
    "tags": []
   },
   "source": [
    "**PCA**"
   ]
  },
  {
   "cell_type": "code",
   "execution_count": null,
   "id": "e8ecf08d",
   "metadata": {
    "execution": {
     "iopub.execute_input": "2023-10-25T10:56:40.080247Z",
     "iopub.status.busy": "2023-10-25T10:56:40.079764Z",
     "iopub.status.idle": "2023-10-25T10:56:40.432502Z",
     "shell.execute_reply": "2023-10-25T10:56:40.430998Z",
     "shell.execute_reply.started": "2023-10-25T10:56:40.080214Z"
    },
    "papermill": {
     "duration": null,
     "end_time": null,
     "exception": null,
     "start_time": null,
     "status": "pending"
    },
    "tags": []
   },
   "outputs": [],
   "source": [
    "import pandas as pd\n",
    "from sklearn.decomposition import PCA\n",
    "from sklearn.preprocessing import StandardScaler\n",
    "import matplotlib.pyplot as plt\n",
    "\n",
    "\n",
    "# Step 1: Handle missing values (you can choose a suitable method)\n",
    "cdf = cdf.dropna()\n",
    "\n",
    "# Step 2: Standardize your data\n",
    "scaler = StandardScaler()\n",
    "scaled_data = scaler.fit_transform(cdf)\n",
    "\n",
    "# Step 3: Create a PCA model\n",
    "# Choose the number of components (n_components) based on the explained variance ratio\n",
    "pca = PCA(n_components=2)\n",
    "\n",
    "# Fit the PCA model to your data\n",
    "pca.fit(scaled_data)\n",
    "\n",
    "# Step 4: Transform the data to the first two principal components\n",
    "cdf_pca = pca.transform(scaled_data)\n",
    "\n",
    "# Visualize the explained variance ratio\n",
    "explained_variance = pca.explained_variance_ratio_\n",
    "print(\"Explained Variance Ratio:\", explained_variance)\n",
    "\n",
    "# Create a DataFrame for the transformed data\n",
    "cdf_pca_df = pd.DataFrame(data=cdf_pca, columns=['PC1', 'PC2'])\n",
    "\n",
    "# Plot the data in the new PCA space\n",
    "plt.scatter(cdf_pca_df['PC1'], cdf_pca_df['PC2'])\n",
    "plt.xlabel('Principal Component 1 (PC1)')\n",
    "plt.ylabel('Principal Component 2 (PC2)')\n",
    "plt.title('PCA Result')\n",
    "plt.show()\n"
   ]
  },
  {
   "cell_type": "markdown",
   "id": "ed3ce2a1",
   "metadata": {
    "papermill": {
     "duration": null,
     "end_time": null,
     "exception": null,
     "start_time": null,
     "status": "pending"
    },
    "tags": []
   },
   "source": [
    "**Performance Analysis**"
   ]
  },
  {
   "cell_type": "code",
   "execution_count": null,
   "id": "b59a518c",
   "metadata": {
    "execution": {
     "iopub.execute_input": "2023-10-27T10:59:56.048596Z",
     "iopub.status.busy": "2023-10-27T10:59:56.048057Z",
     "iopub.status.idle": "2023-10-27T10:59:56.414817Z",
     "shell.execute_reply": "2023-10-27T10:59:56.412932Z",
     "shell.execute_reply.started": "2023-10-27T10:59:56.048566Z"
    },
    "papermill": {
     "duration": null,
     "end_time": null,
     "exception": null,
     "start_time": null,
     "status": "pending"
    },
    "tags": []
   },
   "outputs": [],
   "source": [
    "import pandas as pd\n",
    "\n",
    "# Define the model names\n",
    "model_names = [\"Logistic Regression\", \"Decision Tree\", \"Random Forest\", \"K-Nearest Neighbors\", \"Support Vector Machine\", \"Artificial Neural Network\"]\n",
    "\n",
    "# Define the evaluation metrics for each model\n",
    "accuracies = [0.67, 0.17, 0.17, 0.50, 0.67, 0.67]\n",
    "precisions = [0.67, 0.33, 0.33, 0.67, 0.67, 0.67]\n",
    "recalls = [1.00, 0.25, 0.25, 0.50, 1.00, 1.00]\n",
    "f1_scores = [0.80, 0.29, 0.29, 0.57, 0.80, 0.80]\n",
    "\n",
    "# Create a DataFrame to store the results\n",
    "results_df = pd.DataFrame({\n",
    "    \"Model\": model_names,\n",
    "    \"Accuracy\": accuracies,\n",
    "    \"Precision\": precisions,\n",
    "    \"Recall\": recalls,\n",
    "    \"F1-Score\": f1_scores\n",
    "})\n",
    "\n",
    "# Display the table\n",
    "print(results_df)\n"
   ]
  }
 ],
 "metadata": {
  "kernelspec": {
   "display_name": "Python 3",
   "language": "python",
   "name": "python3"
  },
  "language_info": {
   "codemirror_mode": {
    "name": "ipython",
    "version": 3
   },
   "file_extension": ".py",
   "mimetype": "text/x-python",
   "name": "python",
   "nbconvert_exporter": "python",
   "pygments_lexer": "ipython3",
   "version": "3.10.12"
  },
  "papermill": {
   "default_parameters": {},
   "duration": 29.403068,
   "end_time": "2023-10-31T08:28:50.417754",
   "environment_variables": {},
   "exception": true,
   "input_path": "__notebook__.ipynb",
   "output_path": "__notebook__.ipynb",
   "parameters": {},
   "start_time": "2023-10-31T08:28:21.014686",
   "version": "2.4.0"
  }
 },
 "nbformat": 4,
 "nbformat_minor": 5
}
